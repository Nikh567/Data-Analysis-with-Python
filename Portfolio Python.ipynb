{
 "cells": [
  {
   "cell_type": "code",
   "execution_count": 1,
   "id": "8905b76b",
   "metadata": {},
   "outputs": [],
   "source": [
    "import numpy as np, pandas as pd, matplotlib.pyplot as plt, seaborn as sns, os"
   ]
  },
  {
   "cell_type": "code",
   "execution_count": 2,
   "id": "30a07c3d",
   "metadata": {},
   "outputs": [],
   "source": [
    "os.getcwd()\n",
    "os.chdir('C:\\\\Users\\\\mycsv\\\\')"
   ]
  },
  {
   "cell_type": "code",
   "execution_count": 4,
   "id": "970c107c",
   "metadata": {},
   "outputs": [
    {
     "data": {
      "text/html": [
       "<div>\n",
       "<style scoped>\n",
       "    .dataframe tbody tr th:only-of-type {\n",
       "        vertical-align: middle;\n",
       "    }\n",
       "\n",
       "    .dataframe tbody tr th {\n",
       "        vertical-align: top;\n",
       "    }\n",
       "\n",
       "    .dataframe thead th {\n",
       "        text-align: right;\n",
       "    }\n",
       "</style>\n",
       "<table border=\"1\" class=\"dataframe\">\n",
       "  <thead>\n",
       "    <tr style=\"text-align: right;\">\n",
       "      <th></th>\n",
       "      <th>InvoiceNo</th>\n",
       "      <th>StockCode</th>\n",
       "      <th>Description</th>\n",
       "      <th>Quantity</th>\n",
       "      <th>UnitPrice</th>\n",
       "      <th>Amount</th>\n",
       "      <th>InvoiceDate</th>\n",
       "      <th>Day</th>\n",
       "      <th>Month</th>\n",
       "      <th>Year</th>\n",
       "      <th>CustomerID</th>\n",
       "      <th>Country</th>\n",
       "    </tr>\n",
       "  </thead>\n",
       "  <tbody>\n",
       "    <tr>\n",
       "      <th>0</th>\n",
       "      <td>536365</td>\n",
       "      <td>85123A</td>\n",
       "      <td>WHITE HANGING HEART T-LIGHT HOLDER</td>\n",
       "      <td>6</td>\n",
       "      <td>2.55</td>\n",
       "      <td>15.30</td>\n",
       "      <td>01-12-10</td>\n",
       "      <td>1</td>\n",
       "      <td>12</td>\n",
       "      <td>2010</td>\n",
       "      <td>17850.0</td>\n",
       "      <td>United Kingdom</td>\n",
       "    </tr>\n",
       "    <tr>\n",
       "      <th>1</th>\n",
       "      <td>536365</td>\n",
       "      <td>71053</td>\n",
       "      <td>WHITE METAL LANTERN</td>\n",
       "      <td>6</td>\n",
       "      <td>3.39</td>\n",
       "      <td>20.34</td>\n",
       "      <td>01-12-10</td>\n",
       "      <td>1</td>\n",
       "      <td>12</td>\n",
       "      <td>2010</td>\n",
       "      <td>17850.0</td>\n",
       "      <td>United Kingdom</td>\n",
       "    </tr>\n",
       "    <tr>\n",
       "      <th>2</th>\n",
       "      <td>536365</td>\n",
       "      <td>84406B</td>\n",
       "      <td>CREAM CUPID HEARTS COAT HANGER</td>\n",
       "      <td>8</td>\n",
       "      <td>2.75</td>\n",
       "      <td>22.00</td>\n",
       "      <td>01-12-10</td>\n",
       "      <td>1</td>\n",
       "      <td>12</td>\n",
       "      <td>2010</td>\n",
       "      <td>17850.0</td>\n",
       "      <td>United Kingdom</td>\n",
       "    </tr>\n",
       "    <tr>\n",
       "      <th>3</th>\n",
       "      <td>536365</td>\n",
       "      <td>84029G</td>\n",
       "      <td>KNITTED UNION FLAG HOT WATER BOTTLE</td>\n",
       "      <td>6</td>\n",
       "      <td>3.39</td>\n",
       "      <td>20.34</td>\n",
       "      <td>01-12-10</td>\n",
       "      <td>1</td>\n",
       "      <td>12</td>\n",
       "      <td>2010</td>\n",
       "      <td>17850.0</td>\n",
       "      <td>United Kingdom</td>\n",
       "    </tr>\n",
       "    <tr>\n",
       "      <th>4</th>\n",
       "      <td>536365</td>\n",
       "      <td>84029E</td>\n",
       "      <td>RED WOOLLY HOTTIE WHITE HEART.</td>\n",
       "      <td>6</td>\n",
       "      <td>3.39</td>\n",
       "      <td>20.34</td>\n",
       "      <td>01-12-10</td>\n",
       "      <td>1</td>\n",
       "      <td>12</td>\n",
       "      <td>2010</td>\n",
       "      <td>17850.0</td>\n",
       "      <td>United Kingdom</td>\n",
       "    </tr>\n",
       "    <tr>\n",
       "      <th>...</th>\n",
       "      <td>...</td>\n",
       "      <td>...</td>\n",
       "      <td>...</td>\n",
       "      <td>...</td>\n",
       "      <td>...</td>\n",
       "      <td>...</td>\n",
       "      <td>...</td>\n",
       "      <td>...</td>\n",
       "      <td>...</td>\n",
       "      <td>...</td>\n",
       "      <td>...</td>\n",
       "      <td>...</td>\n",
       "    </tr>\n",
       "    <tr>\n",
       "      <th>541869</th>\n",
       "      <td>581587</td>\n",
       "      <td>22613</td>\n",
       "      <td>PACK OF 20 SPACEBOY NAPKINS</td>\n",
       "      <td>12</td>\n",
       "      <td>0.85</td>\n",
       "      <td>10.20</td>\n",
       "      <td>09-12-11</td>\n",
       "      <td>9</td>\n",
       "      <td>12</td>\n",
       "      <td>2011</td>\n",
       "      <td>12680.0</td>\n",
       "      <td>France</td>\n",
       "    </tr>\n",
       "    <tr>\n",
       "      <th>541870</th>\n",
       "      <td>581587</td>\n",
       "      <td>22899</td>\n",
       "      <td>CHILDREN'S APRON DOLLY GIRL</td>\n",
       "      <td>6</td>\n",
       "      <td>2.10</td>\n",
       "      <td>12.60</td>\n",
       "      <td>09-12-11</td>\n",
       "      <td>9</td>\n",
       "      <td>12</td>\n",
       "      <td>2011</td>\n",
       "      <td>12680.0</td>\n",
       "      <td>France</td>\n",
       "    </tr>\n",
       "    <tr>\n",
       "      <th>541871</th>\n",
       "      <td>581587</td>\n",
       "      <td>23254</td>\n",
       "      <td>CHILDRENS CUTLERY DOLLY GIRL</td>\n",
       "      <td>4</td>\n",
       "      <td>4.15</td>\n",
       "      <td>16.60</td>\n",
       "      <td>09-12-11</td>\n",
       "      <td>9</td>\n",
       "      <td>12</td>\n",
       "      <td>2011</td>\n",
       "      <td>12680.0</td>\n",
       "      <td>France</td>\n",
       "    </tr>\n",
       "    <tr>\n",
       "      <th>541872</th>\n",
       "      <td>581587</td>\n",
       "      <td>23255</td>\n",
       "      <td>CHILDRENS CUTLERY CIRCUS PARADE</td>\n",
       "      <td>4</td>\n",
       "      <td>4.15</td>\n",
       "      <td>16.60</td>\n",
       "      <td>09-12-11</td>\n",
       "      <td>9</td>\n",
       "      <td>12</td>\n",
       "      <td>2011</td>\n",
       "      <td>12680.0</td>\n",
       "      <td>France</td>\n",
       "    </tr>\n",
       "    <tr>\n",
       "      <th>541873</th>\n",
       "      <td>581587</td>\n",
       "      <td>22138</td>\n",
       "      <td>BAKING SET 9 PIECE RETROSPOT</td>\n",
       "      <td>3</td>\n",
       "      <td>4.95</td>\n",
       "      <td>14.85</td>\n",
       "      <td>09-12-11</td>\n",
       "      <td>9</td>\n",
       "      <td>12</td>\n",
       "      <td>2011</td>\n",
       "      <td>12680.0</td>\n",
       "      <td>France</td>\n",
       "    </tr>\n",
       "  </tbody>\n",
       "</table>\n",
       "<p>541874 rows × 12 columns</p>\n",
       "</div>"
      ],
      "text/plain": [
       "       InvoiceNo StockCode                          Description  Quantity  \\\n",
       "0         536365    85123A   WHITE HANGING HEART T-LIGHT HOLDER         6   \n",
       "1         536365     71053                  WHITE METAL LANTERN         6   \n",
       "2         536365    84406B       CREAM CUPID HEARTS COAT HANGER         8   \n",
       "3         536365    84029G  KNITTED UNION FLAG HOT WATER BOTTLE         6   \n",
       "4         536365    84029E       RED WOOLLY HOTTIE WHITE HEART.         6   \n",
       "...          ...       ...                                  ...       ...   \n",
       "541869    581587     22613          PACK OF 20 SPACEBOY NAPKINS        12   \n",
       "541870    581587     22899         CHILDREN'S APRON DOLLY GIRL          6   \n",
       "541871    581587     23254        CHILDRENS CUTLERY DOLLY GIRL          4   \n",
       "541872    581587     23255      CHILDRENS CUTLERY CIRCUS PARADE         4   \n",
       "541873    581587     22138        BAKING SET 9 PIECE RETROSPOT          3   \n",
       "\n",
       "        UnitPrice  Amount InvoiceDate  Day  Month  Year  CustomerID  \\\n",
       "0            2.55   15.30    01-12-10    1     12  2010     17850.0   \n",
       "1            3.39   20.34    01-12-10    1     12  2010     17850.0   \n",
       "2            2.75   22.00    01-12-10    1     12  2010     17850.0   \n",
       "3            3.39   20.34    01-12-10    1     12  2010     17850.0   \n",
       "4            3.39   20.34    01-12-10    1     12  2010     17850.0   \n",
       "...           ...     ...         ...  ...    ...   ...         ...   \n",
       "541869       0.85   10.20    09-12-11    9     12  2011     12680.0   \n",
       "541870       2.10   12.60    09-12-11    9     12  2011     12680.0   \n",
       "541871       4.15   16.60    09-12-11    9     12  2011     12680.0   \n",
       "541872       4.15   16.60    09-12-11    9     12  2011     12680.0   \n",
       "541873       4.95   14.85    09-12-11    9     12  2011     12680.0   \n",
       "\n",
       "               Country  \n",
       "0       United Kingdom  \n",
       "1       United Kingdom  \n",
       "2       United Kingdom  \n",
       "3       United Kingdom  \n",
       "4       United Kingdom  \n",
       "...                ...  \n",
       "541869          France  \n",
       "541870          France  \n",
       "541871          France  \n",
       "541872          France  \n",
       "541873          France  \n",
       "\n",
       "[541874 rows x 12 columns]"
      ]
     },
     "execution_count": 4,
     "metadata": {},
     "output_type": "execute_result"
    }
   ],
   "source": [
    "dg=pd.read_csv('BigMartSalesData.csv')\n",
    "dg"
   ]
  },
  {
   "cell_type": "code",
   "execution_count": 5,
   "id": "37a9eb9c",
   "metadata": {},
   "outputs": [
    {
     "data": {
      "text/html": [
       "<div>\n",
       "<style scoped>\n",
       "    .dataframe tbody tr th:only-of-type {\n",
       "        vertical-align: middle;\n",
       "    }\n",
       "\n",
       "    .dataframe tbody tr th {\n",
       "        vertical-align: top;\n",
       "    }\n",
       "\n",
       "    .dataframe thead th {\n",
       "        text-align: right;\n",
       "    }\n",
       "</style>\n",
       "<table border=\"1\" class=\"dataframe\">\n",
       "  <thead>\n",
       "    <tr style=\"text-align: right;\">\n",
       "      <th></th>\n",
       "      <th>InvoiceNo</th>\n",
       "      <th>StockCode</th>\n",
       "      <th>Description</th>\n",
       "      <th>Quantity</th>\n",
       "      <th>UnitPrice</th>\n",
       "      <th>Amount</th>\n",
       "      <th>InvoiceDate</th>\n",
       "      <th>Day</th>\n",
       "      <th>Month</th>\n",
       "      <th>Year</th>\n",
       "      <th>CustomerID</th>\n",
       "      <th>Country</th>\n",
       "    </tr>\n",
       "  </thead>\n",
       "  <tbody>\n",
       "    <tr>\n",
       "      <th>count</th>\n",
       "      <td>541874</td>\n",
       "      <td>541874</td>\n",
       "      <td>540422</td>\n",
       "      <td>541874.000000</td>\n",
       "      <td>541874.000000</td>\n",
       "      <td>541874.000000</td>\n",
       "      <td>541874</td>\n",
       "      <td>541874.000000</td>\n",
       "      <td>541874.000000</td>\n",
       "      <td>541874.000000</td>\n",
       "      <td>406829.000000</td>\n",
       "      <td>541874</td>\n",
       "    </tr>\n",
       "    <tr>\n",
       "      <th>unique</th>\n",
       "      <td>25897</td>\n",
       "      <td>4064</td>\n",
       "      <td>4216</td>\n",
       "      <td>NaN</td>\n",
       "      <td>NaN</td>\n",
       "      <td>NaN</td>\n",
       "      <td>305</td>\n",
       "      <td>NaN</td>\n",
       "      <td>NaN</td>\n",
       "      <td>NaN</td>\n",
       "      <td>NaN</td>\n",
       "      <td>38</td>\n",
       "    </tr>\n",
       "    <tr>\n",
       "      <th>top</th>\n",
       "      <td>573585</td>\n",
       "      <td>85123A</td>\n",
       "      <td>WHITE HANGING HEART T-LIGHT HOLDER</td>\n",
       "      <td>NaN</td>\n",
       "      <td>NaN</td>\n",
       "      <td>NaN</td>\n",
       "      <td>05-12-11</td>\n",
       "      <td>NaN</td>\n",
       "      <td>NaN</td>\n",
       "      <td>NaN</td>\n",
       "      <td>NaN</td>\n",
       "      <td>United Kingdom</td>\n",
       "    </tr>\n",
       "    <tr>\n",
       "      <th>freq</th>\n",
       "      <td>1113</td>\n",
       "      <td>2313</td>\n",
       "      <td>2369</td>\n",
       "      <td>NaN</td>\n",
       "      <td>NaN</td>\n",
       "      <td>NaN</td>\n",
       "      <td>5331</td>\n",
       "      <td>NaN</td>\n",
       "      <td>NaN</td>\n",
       "      <td>NaN</td>\n",
       "      <td>NaN</td>\n",
       "      <td>495443</td>\n",
       "    </tr>\n",
       "    <tr>\n",
       "      <th>mean</th>\n",
       "      <td>NaN</td>\n",
       "      <td>NaN</td>\n",
       "      <td>NaN</td>\n",
       "      <td>11.341028</td>\n",
       "      <td>4.610038</td>\n",
       "      <td>21.297578</td>\n",
       "      <td>NaN</td>\n",
       "      <td>15.022902</td>\n",
       "      <td>7.553228</td>\n",
       "      <td>2010.921607</td>\n",
       "      <td>15287.690570</td>\n",
       "      <td>NaN</td>\n",
       "    </tr>\n",
       "    <tr>\n",
       "      <th>std</th>\n",
       "      <td>NaN</td>\n",
       "      <td>NaN</td>\n",
       "      <td>NaN</td>\n",
       "      <td>218.002505</td>\n",
       "      <td>96.762800</td>\n",
       "      <td>378.651364</td>\n",
       "      <td>NaN</td>\n",
       "      <td>8.663960</td>\n",
       "      <td>3.509063</td>\n",
       "      <td>0.268789</td>\n",
       "      <td>1713.600303</td>\n",
       "      <td>NaN</td>\n",
       "    </tr>\n",
       "    <tr>\n",
       "      <th>min</th>\n",
       "      <td>NaN</td>\n",
       "      <td>NaN</td>\n",
       "      <td>NaN</td>\n",
       "      <td>1.000000</td>\n",
       "      <td>-11062.060000</td>\n",
       "      <td>-11062.060000</td>\n",
       "      <td>NaN</td>\n",
       "      <td>1.000000</td>\n",
       "      <td>1.000000</td>\n",
       "      <td>2010.000000</td>\n",
       "      <td>12346.000000</td>\n",
       "      <td>NaN</td>\n",
       "    </tr>\n",
       "    <tr>\n",
       "      <th>25%</th>\n",
       "      <td>NaN</td>\n",
       "      <td>NaN</td>\n",
       "      <td>NaN</td>\n",
       "      <td>1.000000</td>\n",
       "      <td>1.250000</td>\n",
       "      <td>3.750000</td>\n",
       "      <td>NaN</td>\n",
       "      <td>7.000000</td>\n",
       "      <td>5.000000</td>\n",
       "      <td>2011.000000</td>\n",
       "      <td>13953.000000</td>\n",
       "      <td>NaN</td>\n",
       "    </tr>\n",
       "    <tr>\n",
       "      <th>50%</th>\n",
       "      <td>NaN</td>\n",
       "      <td>NaN</td>\n",
       "      <td>NaN</td>\n",
       "      <td>3.000000</td>\n",
       "      <td>2.080000</td>\n",
       "      <td>9.900000</td>\n",
       "      <td>NaN</td>\n",
       "      <td>15.000000</td>\n",
       "      <td>8.000000</td>\n",
       "      <td>2011.000000</td>\n",
       "      <td>15152.000000</td>\n",
       "      <td>NaN</td>\n",
       "    </tr>\n",
       "    <tr>\n",
       "      <th>75%</th>\n",
       "      <td>NaN</td>\n",
       "      <td>NaN</td>\n",
       "      <td>NaN</td>\n",
       "      <td>10.000000</td>\n",
       "      <td>4.130000</td>\n",
       "      <td>17.700000</td>\n",
       "      <td>NaN</td>\n",
       "      <td>22.000000</td>\n",
       "      <td>11.000000</td>\n",
       "      <td>2011.000000</td>\n",
       "      <td>16791.000000</td>\n",
       "      <td>NaN</td>\n",
       "    </tr>\n",
       "    <tr>\n",
       "      <th>max</th>\n",
       "      <td>NaN</td>\n",
       "      <td>NaN</td>\n",
       "      <td>NaN</td>\n",
       "      <td>80995.000000</td>\n",
       "      <td>38970.000000</td>\n",
       "      <td>168469.600000</td>\n",
       "      <td>NaN</td>\n",
       "      <td>31.000000</td>\n",
       "      <td>12.000000</td>\n",
       "      <td>2011.000000</td>\n",
       "      <td>18287.000000</td>\n",
       "      <td>NaN</td>\n",
       "    </tr>\n",
       "  </tbody>\n",
       "</table>\n",
       "</div>"
      ],
      "text/plain": [
       "       InvoiceNo StockCode                         Description       Quantity  \\\n",
       "count     541874    541874                              540422  541874.000000   \n",
       "unique     25897      4064                                4216            NaN   \n",
       "top       573585    85123A  WHITE HANGING HEART T-LIGHT HOLDER            NaN   \n",
       "freq        1113      2313                                2369            NaN   \n",
       "mean         NaN       NaN                                 NaN      11.341028   \n",
       "std          NaN       NaN                                 NaN     218.002505   \n",
       "min          NaN       NaN                                 NaN       1.000000   \n",
       "25%          NaN       NaN                                 NaN       1.000000   \n",
       "50%          NaN       NaN                                 NaN       3.000000   \n",
       "75%          NaN       NaN                                 NaN      10.000000   \n",
       "max          NaN       NaN                                 NaN   80995.000000   \n",
       "\n",
       "            UnitPrice         Amount InvoiceDate            Day  \\\n",
       "count   541874.000000  541874.000000      541874  541874.000000   \n",
       "unique            NaN            NaN         305            NaN   \n",
       "top               NaN            NaN    05-12-11            NaN   \n",
       "freq              NaN            NaN        5331            NaN   \n",
       "mean         4.610038      21.297578         NaN      15.022902   \n",
       "std         96.762800     378.651364         NaN       8.663960   \n",
       "min     -11062.060000  -11062.060000         NaN       1.000000   \n",
       "25%          1.250000       3.750000         NaN       7.000000   \n",
       "50%          2.080000       9.900000         NaN      15.000000   \n",
       "75%          4.130000      17.700000         NaN      22.000000   \n",
       "max      38970.000000  168469.600000         NaN      31.000000   \n",
       "\n",
       "                Month           Year     CustomerID         Country  \n",
       "count   541874.000000  541874.000000  406829.000000          541874  \n",
       "unique            NaN            NaN            NaN              38  \n",
       "top               NaN            NaN            NaN  United Kingdom  \n",
       "freq              NaN            NaN            NaN          495443  \n",
       "mean         7.553228    2010.921607   15287.690570             NaN  \n",
       "std          3.509063       0.268789    1713.600303             NaN  \n",
       "min          1.000000    2010.000000   12346.000000             NaN  \n",
       "25%          5.000000    2011.000000   13953.000000             NaN  \n",
       "50%          8.000000    2011.000000   15152.000000             NaN  \n",
       "75%         11.000000    2011.000000   16791.000000             NaN  \n",
       "max         12.000000    2011.000000   18287.000000             NaN  "
      ]
     },
     "execution_count": 5,
     "metadata": {},
     "output_type": "execute_result"
    }
   ],
   "source": [
    "dg.describe(include='all')"
   ]
  },
  {
   "cell_type": "code",
   "execution_count": 6,
   "id": "394cd3c2",
   "metadata": {},
   "outputs": [
    {
     "name": "stdout",
     "output_type": "stream",
     "text": [
      "<class 'pandas.core.frame.DataFrame'>\n",
      "RangeIndex: 541874 entries, 0 to 541873\n",
      "Data columns (total 12 columns):\n",
      " #   Column       Non-Null Count   Dtype  \n",
      "---  ------       --------------   -----  \n",
      " 0   InvoiceNo    541874 non-null  object \n",
      " 1   StockCode    541874 non-null  object \n",
      " 2   Description  540422 non-null  object \n",
      " 3   Quantity     541874 non-null  int64  \n",
      " 4   UnitPrice    541874 non-null  float64\n",
      " 5   Amount       541874 non-null  float64\n",
      " 6   InvoiceDate  541874 non-null  object \n",
      " 7   Day          541874 non-null  int64  \n",
      " 8   Month        541874 non-null  int64  \n",
      " 9   Year         541874 non-null  int64  \n",
      " 10  CustomerID   406829 non-null  float64\n",
      " 11  Country      541874 non-null  object \n",
      "dtypes: float64(3), int64(4), object(5)\n",
      "memory usage: 49.6+ MB\n"
     ]
    }
   ],
   "source": [
    "dg.info()"
   ]
  },
  {
   "cell_type": "code",
   "execution_count": 7,
   "id": "f01dafa1",
   "metadata": {},
   "outputs": [
    {
     "data": {
      "text/plain": [
       "InvoiceNo      False\n",
       "StockCode      False\n",
       "Description     True\n",
       "Quantity       False\n",
       "UnitPrice      False\n",
       "Amount         False\n",
       "InvoiceDate    False\n",
       "Day            False\n",
       "Month          False\n",
       "Year           False\n",
       "CustomerID      True\n",
       "Country        False\n",
       "dtype: bool"
      ]
     },
     "execution_count": 7,
     "metadata": {},
     "output_type": "execute_result"
    }
   ],
   "source": [
    "dg.isnull().any()"
   ]
  },
  {
   "cell_type": "code",
   "execution_count": 8,
   "id": "9e82c494",
   "metadata": {},
   "outputs": [
    {
     "data": {
      "text/plain": [
       "InvoiceNo           0\n",
       "StockCode           0\n",
       "Description      1452\n",
       "Quantity            0\n",
       "UnitPrice           0\n",
       "Amount              0\n",
       "InvoiceDate         0\n",
       "Day                 0\n",
       "Month               0\n",
       "Year                0\n",
       "CustomerID     135045\n",
       "Country             0\n",
       "dtype: int64"
      ]
     },
     "execution_count": 8,
     "metadata": {},
     "output_type": "execute_result"
    }
   ],
   "source": [
    "dg.isnull().sum()"
   ]
  },
  {
   "cell_type": "code",
   "execution_count": 9,
   "id": "5fd1e56e",
   "metadata": {},
   "outputs": [
    {
     "data": {
      "text/plain": [
       "['InvoiceNo',\n",
       " 'StockCode',\n",
       " 'Description',\n",
       " 'Quantity',\n",
       " 'UnitPrice',\n",
       " 'Amount',\n",
       " 'InvoiceDate',\n",
       " 'Day',\n",
       " 'Month',\n",
       " 'Year',\n",
       " 'CustomerID',\n",
       " 'Country']"
      ]
     },
     "execution_count": 9,
     "metadata": {},
     "output_type": "execute_result"
    }
   ],
   "source": [
    "list(dg)"
   ]
  },
  {
   "cell_type": "code",
   "execution_count": 10,
   "id": "bfda0d83",
   "metadata": {},
   "outputs": [
    {
     "data": {
      "text/plain": [
       "573585    1113\n",
       "581219     749\n",
       "581492     731\n",
       "580729     721\n",
       "558475     705\n",
       "          ... \n",
       "569339       1\n",
       "562386       1\n",
       "575038       1\n",
       "570596       1\n",
       "547559       1\n",
       "Name: InvoiceNo, Length: 25897, dtype: int64"
      ]
     },
     "execution_count": 10,
     "metadata": {},
     "output_type": "execute_result"
    }
   ],
   "source": [
    "dg['InvoiceNo'].value_counts()"
   ]
  },
  {
   "cell_type": "code",
   "execution_count": 11,
   "id": "13812a14",
   "metadata": {},
   "outputs": [
    {
     "data": {
      "text/plain": [
       "0    536365\n",
       "1    536365\n",
       "2    536365\n",
       "3    536365\n",
       "4    536365\n",
       "5    536365\n",
       "6    536365\n",
       "7    536366\n",
       "8    536366\n",
       "9    536367\n",
       "Name: InvoiceNo, dtype: object"
      ]
     },
     "execution_count": 11,
     "metadata": {},
     "output_type": "execute_result"
    }
   ],
   "source": [
    "dg['InvoiceNo'].head(10)"
   ]
  },
  {
   "cell_type": "code",
   "execution_count": 12,
   "id": "9a26f8a0",
   "metadata": {},
   "outputs": [
    {
     "data": {
      "text/plain": [
       "count     541874\n",
       "unique     25897\n",
       "top       573585\n",
       "freq        1113\n",
       "Name: InvoiceNo, dtype: object"
      ]
     },
     "execution_count": 12,
     "metadata": {},
     "output_type": "execute_result"
    }
   ],
   "source": [
    "dg['InvoiceNo'].describe()"
   ]
  },
  {
   "cell_type": "code",
   "execution_count": 13,
   "id": "19ce24d7",
   "metadata": {},
   "outputs": [
    {
     "data": {
      "text/plain": [
       "0"
      ]
     },
     "execution_count": 13,
     "metadata": {},
     "output_type": "execute_result"
    }
   ],
   "source": [
    "dg['InvoiceNo'].isna().sum()"
   ]
  },
  {
   "cell_type": "code",
   "execution_count": 14,
   "id": "1e68ff8f",
   "metadata": {},
   "outputs": [
    {
     "data": {
      "text/plain": [
       "count                                 540422\n",
       "unique                                  4216\n",
       "top       WHITE HANGING HEART T-LIGHT HOLDER\n",
       "freq                                    2369\n",
       "Name: Description, dtype: object"
      ]
     },
     "execution_count": 14,
     "metadata": {},
     "output_type": "execute_result"
    }
   ],
   "source": [
    "dg['Description'].describe()"
   ]
  },
  {
   "cell_type": "code",
   "execution_count": 17,
   "id": "67e61dbb",
   "metadata": {},
   "outputs": [
    {
     "data": {
      "text/plain": [
       "1452"
      ]
     },
     "execution_count": 17,
     "metadata": {},
     "output_type": "execute_result"
    }
   ],
   "source": [
    "dg['Description'].isnull().sum()"
   ]
  },
  {
   "cell_type": "code",
   "execution_count": 20,
   "id": "915a87f1",
   "metadata": {},
   "outputs": [
    {
     "data": {
      "text/plain": [
       "Quantity          3.00\n",
       "UnitPrice         2.08\n",
       "Amount            9.90\n",
       "Day              15.00\n",
       "Month             8.00\n",
       "Year           2011.00\n",
       "CustomerID    15152.00\n",
       "dtype: float64"
      ]
     },
     "execution_count": 20,
     "metadata": {},
     "output_type": "execute_result"
    }
   ],
   "source": [
    "dg.median()"
   ]
  },
  {
   "cell_type": "code",
   "execution_count": 22,
   "id": "04fd024a",
   "metadata": {},
   "outputs": [
    {
     "data": {
      "text/plain": [
       "(541874, 12)"
      ]
     },
     "execution_count": 22,
     "metadata": {},
     "output_type": "execute_result"
    }
   ],
   "source": [
    "dg.shape"
   ]
  },
  {
   "cell_type": "code",
   "execution_count": 24,
   "id": "af9425aa",
   "metadata": {},
   "outputs": [
    {
     "data": {
      "text/plain": [
       "array(['WHITE HANGING HEART T-LIGHT HOLDER', 'WHITE METAL LANTERN',\n",
       "       'CREAM CUPID HEARTS COAT HANGER', ..., 'lost',\n",
       "       'CREAM HANGING HEART T-LIGHT HOLDER',\n",
       "       'PAPER CRAFT , LITTLE BIRDIE'], dtype=object)"
      ]
     },
     "execution_count": 24,
     "metadata": {},
     "output_type": "execute_result"
    }
   ],
   "source": [
    "dg['Description'].unique()"
   ]
  },
  {
   "cell_type": "code",
   "execution_count": 27,
   "id": "28166390",
   "metadata": {},
   "outputs": [
    {
     "data": {
      "text/plain": [
       "WHITE HANGING HEART T-LIGHT HOLDER    2369\n",
       "REGENCY CAKESTAND 3 TIER              2200\n",
       "JUMBO BAG RED RETROSPOT               2159\n",
       "PARTY BUNTING                         1727\n",
       "LUNCH BAG RED RETROSPOT               1638\n",
       "                                      ... \n",
       "M/COLOUR POM-POM CURTAIN                 1\n",
       "Printing smudges/thrown away             1\n",
       "samples/damages                          1\n",
       "WRAP  PINK FLOCK                         1\n",
       "ZINC PLANT POT HOLDER                    1\n",
       "Name: Description, Length: 4216, dtype: int64"
      ]
     },
     "execution_count": 27,
     "metadata": {},
     "output_type": "execute_result"
    }
   ],
   "source": [
    "dg['Description'].value_counts()"
   ]
  },
  {
   "cell_type": "code",
   "execution_count": 29,
   "id": "10e460cc",
   "metadata": {},
   "outputs": [
    {
     "data": {
      "text/plain": [
       "pandas.core.frame.DataFrame"
      ]
     },
     "execution_count": 29,
     "metadata": {},
     "output_type": "execute_result"
    }
   ],
   "source": [
    "type(dg)"
   ]
  },
  {
   "cell_type": "code",
   "execution_count": 31,
   "id": "b1f18cec",
   "metadata": {},
   "outputs": [
    {
     "data": {
      "text/plain": [
       "pandas.core.series.Series"
      ]
     },
     "execution_count": 31,
     "metadata": {},
     "output_type": "execute_result"
    }
   ],
   "source": [
    "type(dg['InvoiceNo'])"
   ]
  },
  {
   "cell_type": "code",
   "execution_count": 32,
   "id": "42a38494",
   "metadata": {},
   "outputs": [
    {
     "data": {
      "text/plain": [
       "dtype('O')"
      ]
     },
     "execution_count": 32,
     "metadata": {},
     "output_type": "execute_result"
    }
   ],
   "source": [
    "dg['InvoiceNo'].dtype"
   ]
  },
  {
   "cell_type": "code",
   "execution_count": 33,
   "id": "4b2355f9",
   "metadata": {},
   "outputs": [
    {
     "data": {
      "text/plain": [
       "dtype('float64')"
      ]
     },
     "execution_count": 33,
     "metadata": {},
     "output_type": "execute_result"
    }
   ],
   "source": [
    "dg['Amount'].dtype"
   ]
  },
  {
   "cell_type": "code",
   "execution_count": 34,
   "id": "d7cb5b4a",
   "metadata": {},
   "outputs": [
    {
     "data": {
      "text/plain": [
       "dtype('int64')"
      ]
     },
     "execution_count": 34,
     "metadata": {},
     "output_type": "execute_result"
    }
   ],
   "source": [
    "dg['Quantity'].dtype"
   ]
  },
  {
   "cell_type": "code",
   "execution_count": 35,
   "id": "f978b872",
   "metadata": {},
   "outputs": [
    {
     "name": "stdout",
     "output_type": "stream",
     "text": [
      "<class 'pandas.core.frame.DataFrame'>\n",
      "RangeIndex: 541874 entries, 0 to 541873\n",
      "Data columns (total 12 columns):\n",
      " #   Column       Non-Null Count   Dtype  \n",
      "---  ------       --------------   -----  \n",
      " 0   InvoiceNo    541874 non-null  object \n",
      " 1   StockCode    541874 non-null  object \n",
      " 2   Description  540422 non-null  object \n",
      " 3   Quantity     541874 non-null  int64  \n",
      " 4   UnitPrice    541874 non-null  float64\n",
      " 5   Amount       541874 non-null  float64\n",
      " 6   InvoiceDate  541874 non-null  object \n",
      " 7   Day          541874 non-null  int64  \n",
      " 8   Month        541874 non-null  int64  \n",
      " 9   Year         541874 non-null  int64  \n",
      " 10  CustomerID   406829 non-null  float64\n",
      " 11  Country      541874 non-null  object \n",
      "dtypes: float64(3), int64(4), object(5)\n",
      "memory usage: 49.6+ MB\n"
     ]
    }
   ],
   "source": [
    "dg.info()"
   ]
  },
  {
   "cell_type": "code",
   "execution_count": 40,
   "id": "1d15bf31",
   "metadata": {},
   "outputs": [],
   "source": [
    "dg['Day']=pd.to_datetime(dg['Day'])\n",
    "dg['Month']=pd.to_datetime(dg['Month'])\n",
    "dg['Year']=pd.to_datetime(dg['Year'])"
   ]
  },
  {
   "cell_type": "code",
   "execution_count": 41,
   "id": "13f7c8a5",
   "metadata": {},
   "outputs": [
    {
     "name": "stdout",
     "output_type": "stream",
     "text": [
      "<class 'pandas.core.frame.DataFrame'>\n",
      "RangeIndex: 541874 entries, 0 to 541873\n",
      "Data columns (total 12 columns):\n",
      " #   Column       Non-Null Count   Dtype         \n",
      "---  ------       --------------   -----         \n",
      " 0   InvoiceNo    541874 non-null  object        \n",
      " 1   StockCode    541874 non-null  object        \n",
      " 2   Description  540422 non-null  object        \n",
      " 3   Quantity     541874 non-null  int64         \n",
      " 4   UnitPrice    541874 non-null  float64       \n",
      " 5   Amount       541874 non-null  float64       \n",
      " 6   InvoiceDate  541874 non-null  object        \n",
      " 7   Day          541874 non-null  datetime64[ns]\n",
      " 8   Month        541874 non-null  datetime64[ns]\n",
      " 9   Year         541874 non-null  datetime64[ns]\n",
      " 10  CustomerID   406829 non-null  float64       \n",
      " 11  Country      541874 non-null  object        \n",
      "dtypes: datetime64[ns](3), float64(3), int64(1), object(5)\n",
      "memory usage: 49.6+ MB\n"
     ]
    }
   ],
   "source": [
    "dg.info()"
   ]
  },
  {
   "cell_type": "code",
   "execution_count": 42,
   "id": "eaa66ec7",
   "metadata": {},
   "outputs": [
    {
     "data": {
      "text/plain": [
       "0    WHITE HANGING HEART T-LIGHT HOLDER\n",
       "dtype: object"
      ]
     },
     "execution_count": 42,
     "metadata": {},
     "output_type": "execute_result"
    }
   ],
   "source": [
    "dg['Description'].mode()"
   ]
  },
  {
   "cell_type": "code",
   "execution_count": 45,
   "id": "25000968",
   "metadata": {},
   "outputs": [
    {
     "data": {
      "text/html": [
       "<div>\n",
       "<style scoped>\n",
       "    .dataframe tbody tr th:only-of-type {\n",
       "        vertical-align: middle;\n",
       "    }\n",
       "\n",
       "    .dataframe tbody tr th {\n",
       "        vertical-align: top;\n",
       "    }\n",
       "\n",
       "    .dataframe thead th {\n",
       "        text-align: right;\n",
       "    }\n",
       "</style>\n",
       "<table border=\"1\" class=\"dataframe\">\n",
       "  <thead>\n",
       "    <tr style=\"text-align: right;\">\n",
       "      <th></th>\n",
       "      <th>InvoiceNo</th>\n",
       "      <th>StockCode</th>\n",
       "      <th>Description</th>\n",
       "      <th>Quantity</th>\n",
       "      <th>UnitPrice</th>\n",
       "      <th>Amount</th>\n",
       "      <th>InvoiceDate</th>\n",
       "      <th>Day</th>\n",
       "      <th>Month</th>\n",
       "      <th>Year</th>\n",
       "      <th>CustomerID</th>\n",
       "      <th>Country</th>\n",
       "    </tr>\n",
       "  </thead>\n",
       "  <tbody>\n",
       "    <tr>\n",
       "      <th>0</th>\n",
       "      <td>573585</td>\n",
       "      <td>85123A</td>\n",
       "      <td>WHITE HANGING HEART T-LIGHT HOLDER</td>\n",
       "      <td>1</td>\n",
       "      <td>1.25</td>\n",
       "      <td>15.0</td>\n",
       "      <td>05-12-11</td>\n",
       "      <td>1970-01-01 00:00:00.000000008</td>\n",
       "      <td>1970-01-01 00:00:00.000000011</td>\n",
       "      <td>1970-01-01 00:00:00.000002011</td>\n",
       "      <td>17841.0</td>\n",
       "      <td>United Kingdom</td>\n",
       "    </tr>\n",
       "  </tbody>\n",
       "</table>\n",
       "</div>"
      ],
      "text/plain": [
       "  InvoiceNo StockCode                         Description  Quantity  \\\n",
       "0    573585    85123A  WHITE HANGING HEART T-LIGHT HOLDER         1   \n",
       "\n",
       "   UnitPrice  Amount InvoiceDate                           Day  \\\n",
       "0       1.25    15.0    05-12-11 1970-01-01 00:00:00.000000008   \n",
       "\n",
       "                          Month                          Year  CustomerID  \\\n",
       "0 1970-01-01 00:00:00.000000011 1970-01-01 00:00:00.000002011     17841.0   \n",
       "\n",
       "          Country  \n",
       "0  United Kingdom  "
      ]
     },
     "execution_count": 45,
     "metadata": {},
     "output_type": "execute_result"
    }
   ],
   "source": [
    "dg.mode()"
   ]
  },
  {
   "cell_type": "code",
   "execution_count": 48,
   "id": "ba58be51",
   "metadata": {},
   "outputs": [
    {
     "data": {
      "text/plain": [
       "'WHITE HANGING HEART T-LIGHT HOLDER'"
      ]
     },
     "execution_count": 48,
     "metadata": {},
     "output_type": "execute_result"
    }
   ],
   "source": [
    "dg['Description'].iloc[0]"
   ]
  },
  {
   "cell_type": "code",
   "execution_count": 50,
   "id": "f3b4d407",
   "metadata": {},
   "outputs": [],
   "source": [
    "dg['Description'].fillna(dg['Description'].mode().iloc[0],inplace=True)"
   ]
  },
  {
   "cell_type": "code",
   "execution_count": 52,
   "id": "c7ddfa33",
   "metadata": {},
   "outputs": [
    {
     "data": {
      "text/plain": [
       "0"
      ]
     },
     "execution_count": 52,
     "metadata": {},
     "output_type": "execute_result"
    }
   ],
   "source": [
    "dg['Description'].isnull().sum()"
   ]
  },
  {
   "cell_type": "code",
   "execution_count": 54,
   "id": "637758d6",
   "metadata": {},
   "outputs": [
    {
     "data": {
      "text/plain": [
       "InvoiceNo           0\n",
       "StockCode           0\n",
       "Description         0\n",
       "Quantity            0\n",
       "UnitPrice           0\n",
       "Amount              0\n",
       "InvoiceDate         0\n",
       "Day                 0\n",
       "Month               0\n",
       "Year                0\n",
       "CustomerID     135045\n",
       "Country             0\n",
       "dtype: int64"
      ]
     },
     "execution_count": 54,
     "metadata": {},
     "output_type": "execute_result"
    }
   ],
   "source": [
    "dg.isnull().sum()"
   ]
  },
  {
   "cell_type": "code",
   "execution_count": 56,
   "id": "3fc4cdee",
   "metadata": {},
   "outputs": [
    {
     "data": {
      "text/plain": [
       "dtype('float64')"
      ]
     },
     "execution_count": 56,
     "metadata": {},
     "output_type": "execute_result"
    }
   ],
   "source": [
    "dg['CustomerID'].dtype"
   ]
  },
  {
   "cell_type": "code",
   "execution_count": 58,
   "id": "55f59f21",
   "metadata": {},
   "outputs": [
    {
     "data": {
      "text/plain": [
       "17841.0    7983\n",
       "14911.0    5903\n",
       "14096.0    5128\n",
       "12748.0    4642\n",
       "14606.0    2782\n",
       "           ... \n",
       "14351.0       1\n",
       "13256.0       1\n",
       "12943.0       1\n",
       "17923.0       1\n",
       "13747.0       1\n",
       "Name: CustomerID, Length: 4372, dtype: int64"
      ]
     },
     "execution_count": 58,
     "metadata": {},
     "output_type": "execute_result"
    }
   ],
   "source": [
    "dg['CustomerID'].value_counts()"
   ]
  },
  {
   "cell_type": "code",
   "execution_count": 61,
   "id": "0a62b616",
   "metadata": {},
   "outputs": [
    {
     "data": {
      "text/plain": [
       "15287.690570239585"
      ]
     },
     "execution_count": 61,
     "metadata": {},
     "output_type": "execute_result"
    }
   ],
   "source": [
    "dg['CustomerID'].mean()"
   ]
  },
  {
   "cell_type": "code",
   "execution_count": 64,
   "id": "d90a381b",
   "metadata": {},
   "outputs": [],
   "source": [
    "dg['CustomerID'].fillna(dg['CustomerID'].mean(),inplace=True)"
   ]
  },
  {
   "cell_type": "code",
   "execution_count": 66,
   "id": "87b6769d",
   "metadata": {},
   "outputs": [
    {
     "data": {
      "text/plain": [
       "0"
      ]
     },
     "execution_count": 66,
     "metadata": {},
     "output_type": "execute_result"
    }
   ],
   "source": [
    "dg['CustomerID'].isnull().sum()"
   ]
  },
  {
   "cell_type": "code",
   "execution_count": 67,
   "id": "0a6c3380",
   "metadata": {},
   "outputs": [
    {
     "name": "stdout",
     "output_type": "stream",
     "text": [
      "<class 'pandas.core.frame.DataFrame'>\n",
      "RangeIndex: 541874 entries, 0 to 541873\n",
      "Data columns (total 12 columns):\n",
      " #   Column       Non-Null Count   Dtype         \n",
      "---  ------       --------------   -----         \n",
      " 0   InvoiceNo    541874 non-null  object        \n",
      " 1   StockCode    541874 non-null  object        \n",
      " 2   Description  541874 non-null  object        \n",
      " 3   Quantity     541874 non-null  int64         \n",
      " 4   UnitPrice    541874 non-null  float64       \n",
      " 5   Amount       541874 non-null  float64       \n",
      " 6   InvoiceDate  541874 non-null  object        \n",
      " 7   Day          541874 non-null  datetime64[ns]\n",
      " 8   Month        541874 non-null  datetime64[ns]\n",
      " 9   Year         541874 non-null  datetime64[ns]\n",
      " 10  CustomerID   541874 non-null  float64       \n",
      " 11  Country      541874 non-null  object        \n",
      "dtypes: datetime64[ns](3), float64(3), int64(1), object(5)\n",
      "memory usage: 49.6+ MB\n"
     ]
    }
   ],
   "source": [
    "dg.info()"
   ]
  },
  {
   "cell_type": "code",
   "execution_count": 69,
   "id": "18c60e1c",
   "metadata": {},
   "outputs": [
    {
     "data": {
      "text/html": [
       "<div>\n",
       "<style scoped>\n",
       "    .dataframe tbody tr th:only-of-type {\n",
       "        vertical-align: middle;\n",
       "    }\n",
       "\n",
       "    .dataframe tbody tr th {\n",
       "        vertical-align: top;\n",
       "    }\n",
       "\n",
       "    .dataframe thead th {\n",
       "        text-align: right;\n",
       "    }\n",
       "</style>\n",
       "<table border=\"1\" class=\"dataframe\">\n",
       "  <thead>\n",
       "    <tr style=\"text-align: right;\">\n",
       "      <th></th>\n",
       "      <th>InvoiceNo</th>\n",
       "      <th>StockCode</th>\n",
       "      <th>Description</th>\n",
       "      <th>Quantity</th>\n",
       "      <th>UnitPrice</th>\n",
       "      <th>Amount</th>\n",
       "      <th>InvoiceDate</th>\n",
       "      <th>Day</th>\n",
       "      <th>Month</th>\n",
       "      <th>Year</th>\n",
       "      <th>CustomerID</th>\n",
       "      <th>Country</th>\n",
       "    </tr>\n",
       "  </thead>\n",
       "  <tbody>\n",
       "    <tr>\n",
       "      <th>517</th>\n",
       "      <td>536409</td>\n",
       "      <td>21866</td>\n",
       "      <td>UNION JACK FLAG LUGGAGE TAG</td>\n",
       "      <td>1</td>\n",
       "      <td>1.25</td>\n",
       "      <td>1.25</td>\n",
       "      <td>01-12-10</td>\n",
       "      <td>1970-01-01 00:00:00.000000001</td>\n",
       "      <td>1970-01-01 00:00:00.000000012</td>\n",
       "      <td>1970-01-01 00:00:00.000002010</td>\n",
       "      <td>17908.0</td>\n",
       "      <td>United Kingdom</td>\n",
       "    </tr>\n",
       "    <tr>\n",
       "      <th>527</th>\n",
       "      <td>536409</td>\n",
       "      <td>22866</td>\n",
       "      <td>HAND WARMER SCOTTY DOG DESIGN</td>\n",
       "      <td>1</td>\n",
       "      <td>2.10</td>\n",
       "      <td>2.10</td>\n",
       "      <td>01-12-10</td>\n",
       "      <td>1970-01-01 00:00:00.000000001</td>\n",
       "      <td>1970-01-01 00:00:00.000000012</td>\n",
       "      <td>1970-01-01 00:00:00.000002010</td>\n",
       "      <td>17908.0</td>\n",
       "      <td>United Kingdom</td>\n",
       "    </tr>\n",
       "    <tr>\n",
       "      <th>537</th>\n",
       "      <td>536409</td>\n",
       "      <td>22900</td>\n",
       "      <td>SET 2 TEA TOWELS I LOVE LONDON</td>\n",
       "      <td>1</td>\n",
       "      <td>2.95</td>\n",
       "      <td>2.95</td>\n",
       "      <td>01-12-10</td>\n",
       "      <td>1970-01-01 00:00:00.000000001</td>\n",
       "      <td>1970-01-01 00:00:00.000000012</td>\n",
       "      <td>1970-01-01 00:00:00.000002010</td>\n",
       "      <td>17908.0</td>\n",
       "      <td>United Kingdom</td>\n",
       "    </tr>\n",
       "    <tr>\n",
       "      <th>539</th>\n",
       "      <td>536409</td>\n",
       "      <td>22111</td>\n",
       "      <td>SCOTTIE DOG HOT WATER BOTTLE</td>\n",
       "      <td>1</td>\n",
       "      <td>4.95</td>\n",
       "      <td>4.95</td>\n",
       "      <td>01-12-10</td>\n",
       "      <td>1970-01-01 00:00:00.000000001</td>\n",
       "      <td>1970-01-01 00:00:00.000000012</td>\n",
       "      <td>1970-01-01 00:00:00.000002010</td>\n",
       "      <td>17908.0</td>\n",
       "      <td>United Kingdom</td>\n",
       "    </tr>\n",
       "    <tr>\n",
       "      <th>555</th>\n",
       "      <td>536412</td>\n",
       "      <td>22327</td>\n",
       "      <td>ROUND SNACK BOXES SET OF 4 SKULLS</td>\n",
       "      <td>1</td>\n",
       "      <td>2.95</td>\n",
       "      <td>2.95</td>\n",
       "      <td>01-12-10</td>\n",
       "      <td>1970-01-01 00:00:00.000000001</td>\n",
       "      <td>1970-01-01 00:00:00.000000012</td>\n",
       "      <td>1970-01-01 00:00:00.000002010</td>\n",
       "      <td>17920.0</td>\n",
       "      <td>United Kingdom</td>\n",
       "    </tr>\n",
       "    <tr>\n",
       "      <th>...</th>\n",
       "      <td>...</td>\n",
       "      <td>...</td>\n",
       "      <td>...</td>\n",
       "      <td>...</td>\n",
       "      <td>...</td>\n",
       "      <td>...</td>\n",
       "      <td>...</td>\n",
       "      <td>...</td>\n",
       "      <td>...</td>\n",
       "      <td>...</td>\n",
       "      <td>...</td>\n",
       "      <td>...</td>\n",
       "    </tr>\n",
       "    <tr>\n",
       "      <th>541640</th>\n",
       "      <td>581538</td>\n",
       "      <td>22068</td>\n",
       "      <td>BLACK PIRATE TREASURE CHEST</td>\n",
       "      <td>1</td>\n",
       "      <td>0.39</td>\n",
       "      <td>0.39</td>\n",
       "      <td>09-12-11</td>\n",
       "      <td>1970-01-01 00:00:00.000000009</td>\n",
       "      <td>1970-01-01 00:00:00.000000012</td>\n",
       "      <td>1970-01-01 00:00:00.000002011</td>\n",
       "      <td>14446.0</td>\n",
       "      <td>United Kingdom</td>\n",
       "    </tr>\n",
       "    <tr>\n",
       "      <th>541654</th>\n",
       "      <td>581538</td>\n",
       "      <td>23318</td>\n",
       "      <td>BOX OF 6 MINI VINTAGE CRACKERS</td>\n",
       "      <td>1</td>\n",
       "      <td>2.49</td>\n",
       "      <td>2.49</td>\n",
       "      <td>09-12-11</td>\n",
       "      <td>1970-01-01 00:00:00.000000009</td>\n",
       "      <td>1970-01-01 00:00:00.000000012</td>\n",
       "      <td>1970-01-01 00:00:00.000002011</td>\n",
       "      <td>14446.0</td>\n",
       "      <td>United Kingdom</td>\n",
       "    </tr>\n",
       "    <tr>\n",
       "      <th>541657</th>\n",
       "      <td>581538</td>\n",
       "      <td>22992</td>\n",
       "      <td>REVOLVER WOODEN RULER</td>\n",
       "      <td>1</td>\n",
       "      <td>1.95</td>\n",
       "      <td>1.95</td>\n",
       "      <td>09-12-11</td>\n",
       "      <td>1970-01-01 00:00:00.000000009</td>\n",
       "      <td>1970-01-01 00:00:00.000000012</td>\n",
       "      <td>1970-01-01 00:00:00.000002011</td>\n",
       "      <td>14446.0</td>\n",
       "      <td>United Kingdom</td>\n",
       "    </tr>\n",
       "    <tr>\n",
       "      <th>541664</th>\n",
       "      <td>581538</td>\n",
       "      <td>22694</td>\n",
       "      <td>WICKER STAR</td>\n",
       "      <td>1</td>\n",
       "      <td>2.10</td>\n",
       "      <td>2.10</td>\n",
       "      <td>09-12-11</td>\n",
       "      <td>1970-01-01 00:00:00.000000009</td>\n",
       "      <td>1970-01-01 00:00:00.000000012</td>\n",
       "      <td>1970-01-01 00:00:00.000002011</td>\n",
       "      <td>14446.0</td>\n",
       "      <td>United Kingdom</td>\n",
       "    </tr>\n",
       "    <tr>\n",
       "      <th>541666</th>\n",
       "      <td>581538</td>\n",
       "      <td>23343</td>\n",
       "      <td>JUMBO BAG VINTAGE CHRISTMAS</td>\n",
       "      <td>1</td>\n",
       "      <td>2.08</td>\n",
       "      <td>2.08</td>\n",
       "      <td>09-12-11</td>\n",
       "      <td>1970-01-01 00:00:00.000000009</td>\n",
       "      <td>1970-01-01 00:00:00.000000012</td>\n",
       "      <td>1970-01-01 00:00:00.000002011</td>\n",
       "      <td>14446.0</td>\n",
       "      <td>United Kingdom</td>\n",
       "    </tr>\n",
       "  </tbody>\n",
       "</table>\n",
       "<p>5269 rows × 12 columns</p>\n",
       "</div>"
      ],
      "text/plain": [
       "       InvoiceNo StockCode                        Description  Quantity  \\\n",
       "517       536409     21866        UNION JACK FLAG LUGGAGE TAG         1   \n",
       "527       536409     22866      HAND WARMER SCOTTY DOG DESIGN         1   \n",
       "537       536409     22900    SET 2 TEA TOWELS I LOVE LONDON          1   \n",
       "539       536409     22111       SCOTTIE DOG HOT WATER BOTTLE         1   \n",
       "555       536412     22327  ROUND SNACK BOXES SET OF 4 SKULLS         1   \n",
       "...          ...       ...                                ...       ...   \n",
       "541640    581538     22068        BLACK PIRATE TREASURE CHEST         1   \n",
       "541654    581538     23318     BOX OF 6 MINI VINTAGE CRACKERS         1   \n",
       "541657    581538     22992             REVOLVER WOODEN RULER          1   \n",
       "541664    581538     22694                       WICKER STAR          1   \n",
       "541666    581538     23343       JUMBO BAG VINTAGE CHRISTMAS          1   \n",
       "\n",
       "        UnitPrice  Amount InvoiceDate                           Day  \\\n",
       "517          1.25    1.25    01-12-10 1970-01-01 00:00:00.000000001   \n",
       "527          2.10    2.10    01-12-10 1970-01-01 00:00:00.000000001   \n",
       "537          2.95    2.95    01-12-10 1970-01-01 00:00:00.000000001   \n",
       "539          4.95    4.95    01-12-10 1970-01-01 00:00:00.000000001   \n",
       "555          2.95    2.95    01-12-10 1970-01-01 00:00:00.000000001   \n",
       "...           ...     ...         ...                           ...   \n",
       "541640       0.39    0.39    09-12-11 1970-01-01 00:00:00.000000009   \n",
       "541654       2.49    2.49    09-12-11 1970-01-01 00:00:00.000000009   \n",
       "541657       1.95    1.95    09-12-11 1970-01-01 00:00:00.000000009   \n",
       "541664       2.10    2.10    09-12-11 1970-01-01 00:00:00.000000009   \n",
       "541666       2.08    2.08    09-12-11 1970-01-01 00:00:00.000000009   \n",
       "\n",
       "                               Month                          Year  \\\n",
       "517    1970-01-01 00:00:00.000000012 1970-01-01 00:00:00.000002010   \n",
       "527    1970-01-01 00:00:00.000000012 1970-01-01 00:00:00.000002010   \n",
       "537    1970-01-01 00:00:00.000000012 1970-01-01 00:00:00.000002010   \n",
       "539    1970-01-01 00:00:00.000000012 1970-01-01 00:00:00.000002010   \n",
       "555    1970-01-01 00:00:00.000000012 1970-01-01 00:00:00.000002010   \n",
       "...                              ...                           ...   \n",
       "541640 1970-01-01 00:00:00.000000012 1970-01-01 00:00:00.000002011   \n",
       "541654 1970-01-01 00:00:00.000000012 1970-01-01 00:00:00.000002011   \n",
       "541657 1970-01-01 00:00:00.000000012 1970-01-01 00:00:00.000002011   \n",
       "541664 1970-01-01 00:00:00.000000012 1970-01-01 00:00:00.000002011   \n",
       "541666 1970-01-01 00:00:00.000000012 1970-01-01 00:00:00.000002011   \n",
       "\n",
       "        CustomerID         Country  \n",
       "517        17908.0  United Kingdom  \n",
       "527        17908.0  United Kingdom  \n",
       "537        17908.0  United Kingdom  \n",
       "539        17908.0  United Kingdom  \n",
       "555        17920.0  United Kingdom  \n",
       "...            ...             ...  \n",
       "541640     14446.0  United Kingdom  \n",
       "541654     14446.0  United Kingdom  \n",
       "541657     14446.0  United Kingdom  \n",
       "541664     14446.0  United Kingdom  \n",
       "541666     14446.0  United Kingdom  \n",
       "\n",
       "[5269 rows x 12 columns]"
      ]
     },
     "execution_count": 69,
     "metadata": {},
     "output_type": "execute_result"
    }
   ],
   "source": [
    "dg[dg.duplicated()]"
   ]
  },
  {
   "cell_type": "code",
   "execution_count": 71,
   "id": "8fe18c6d",
   "metadata": {},
   "outputs": [],
   "source": [
    "dg_corr=dg.corr()"
   ]
  },
  {
   "cell_type": "code",
   "execution_count": 72,
   "id": "cdc96db7",
   "metadata": {},
   "outputs": [
    {
     "data": {
      "text/html": [
       "<div>\n",
       "<style scoped>\n",
       "    .dataframe tbody tr th:only-of-type {\n",
       "        vertical-align: middle;\n",
       "    }\n",
       "\n",
       "    .dataframe tbody tr th {\n",
       "        vertical-align: top;\n",
       "    }\n",
       "\n",
       "    .dataframe thead th {\n",
       "        text-align: right;\n",
       "    }\n",
       "</style>\n",
       "<table border=\"1\" class=\"dataframe\">\n",
       "  <thead>\n",
       "    <tr style=\"text-align: right;\">\n",
       "      <th></th>\n",
       "      <th>Quantity</th>\n",
       "      <th>UnitPrice</th>\n",
       "      <th>Amount</th>\n",
       "      <th>CustomerID</th>\n",
       "    </tr>\n",
       "  </thead>\n",
       "  <tbody>\n",
       "    <tr>\n",
       "      <th>Quantity</th>\n",
       "      <td>1.000000</td>\n",
       "      <td>-0.001469</td>\n",
       "      <td>0.886587</td>\n",
       "      <td>-0.005041</td>\n",
       "    </tr>\n",
       "    <tr>\n",
       "      <th>UnitPrice</th>\n",
       "      <td>-0.001469</td>\n",
       "      <td>1.000000</td>\n",
       "      <td>0.257257</td>\n",
       "      <td>-0.002830</td>\n",
       "    </tr>\n",
       "    <tr>\n",
       "      <th>Amount</th>\n",
       "      <td>0.886587</td>\n",
       "      <td>0.257257</td>\n",
       "      <td>1.000000</td>\n",
       "      <td>-0.003064</td>\n",
       "    </tr>\n",
       "    <tr>\n",
       "      <th>CustomerID</th>\n",
       "      <td>-0.005041</td>\n",
       "      <td>-0.002830</td>\n",
       "      <td>-0.003064</td>\n",
       "      <td>1.000000</td>\n",
       "    </tr>\n",
       "  </tbody>\n",
       "</table>\n",
       "</div>"
      ],
      "text/plain": [
       "            Quantity  UnitPrice    Amount  CustomerID\n",
       "Quantity    1.000000  -0.001469  0.886587   -0.005041\n",
       "UnitPrice  -0.001469   1.000000  0.257257   -0.002830\n",
       "Amount      0.886587   0.257257  1.000000   -0.003064\n",
       "CustomerID -0.005041  -0.002830 -0.003064    1.000000"
      ]
     },
     "execution_count": 72,
     "metadata": {},
     "output_type": "execute_result"
    }
   ],
   "source": [
    "dg_corr"
   ]
  },
  {
   "cell_type": "code",
   "execution_count": 74,
   "id": "31223639",
   "metadata": {},
   "outputs": [
    {
     "data": {
      "text/plain": [
       "<AxesSubplot:>"
      ]
     },
     "execution_count": 74,
     "metadata": {},
     "output_type": "execute_result"
    },
    {
     "data": {
      "image/png": "[encoded data removed]",
      "text/plain": [
       "<Figure size 810x540 with 2 Axes>"
      ]
     },
     "metadata": {},
     "output_type": "display_data"
    }
   ],
   "source": [
    "plt.figure(dpi=135,facecolor='violet')\n",
    "sns.heatmap(dg_corr,annot=True)"
   ]
  },
  {
   "cell_type": "code",
   "execution_count": 79,
   "id": "78aa823e",
   "metadata": {},
   "outputs": [
    {
     "data": {
      "text/html": [
       "<div>\n",
       "<style scoped>\n",
       "    .dataframe tbody tr th:only-of-type {\n",
       "        vertical-align: middle;\n",
       "    }\n",
       "\n",
       "    .dataframe tbody tr th {\n",
       "        vertical-align: top;\n",
       "    }\n",
       "\n",
       "    .dataframe thead th {\n",
       "        text-align: right;\n",
       "    }\n",
       "</style>\n",
       "<table border=\"1\" class=\"dataframe\">\n",
       "  <thead>\n",
       "    <tr style=\"text-align: right;\">\n",
       "      <th></th>\n",
       "      <th>InvoiceNo</th>\n",
       "      <th>StockCode</th>\n",
       "      <th>Description</th>\n",
       "      <th>Quantity</th>\n",
       "      <th>UnitPrice</th>\n",
       "      <th>Amount</th>\n",
       "      <th>InvoiceDate</th>\n",
       "      <th>Day</th>\n",
       "      <th>Month</th>\n",
       "      <th>Year</th>\n",
       "      <th>CustomerID</th>\n",
       "      <th>Country</th>\n",
       "    </tr>\n",
       "  </thead>\n",
       "  <tbody>\n",
       "    <tr>\n",
       "      <th>730</th>\n",
       "      <td>536437</td>\n",
       "      <td>17021</td>\n",
       "      <td>NAMASTE SWAGAT INCENSE</td>\n",
       "      <td>600</td>\n",
       "      <td>0.24</td>\n",
       "      <td>144.0</td>\n",
       "      <td>01-12-10</td>\n",
       "      <td>1970-01-01 00:00:00.000000001</td>\n",
       "      <td>1970-01-01 00:00:00.000000012</td>\n",
       "      <td>1970-01-01 00:00:00.000002010</td>\n",
       "      <td>13694.0</td>\n",
       "      <td>United Kingdom</td>\n",
       "    </tr>\n",
       "    <tr>\n",
       "      <th>3917</th>\n",
       "      <td>536736</td>\n",
       "      <td>22616</td>\n",
       "      <td>PACK OF 12 LONDON TISSUES</td>\n",
       "      <td>600</td>\n",
       "      <td>0.29</td>\n",
       "      <td>174.0</td>\n",
       "      <td>02-12-10</td>\n",
       "      <td>1970-01-01 00:00:00.000000002</td>\n",
       "      <td>1970-01-01 00:00:00.000000012</td>\n",
       "      <td>1970-01-01 00:00:00.000002010</td>\n",
       "      <td>17381.0</td>\n",
       "      <td>United Kingdom</td>\n",
       "    </tr>\n",
       "    <tr>\n",
       "      <th>4287</th>\n",
       "      <td>C536757</td>\n",
       "      <td>84347</td>\n",
       "      <td>ROTATING SILVER ANGELS T-LIGHT HLDR</td>\n",
       "      <td>9360</td>\n",
       "      <td>0.03</td>\n",
       "      <td>280.8</td>\n",
       "      <td>02-12-10</td>\n",
       "      <td>1970-01-01 00:00:00.000000002</td>\n",
       "      <td>1970-01-01 00:00:00.000000012</td>\n",
       "      <td>1970-01-01 00:00:00.000002010</td>\n",
       "      <td>15838.0</td>\n",
       "      <td>United Kingdom</td>\n",
       "    </tr>\n",
       "    <tr>\n",
       "      <th>4850</th>\n",
       "      <td>536809</td>\n",
       "      <td>84950</td>\n",
       "      <td>ASSORTED COLOUR T-LIGHT HOLDER</td>\n",
       "      <td>1824</td>\n",
       "      <td>0.55</td>\n",
       "      <td>1003.2</td>\n",
       "      <td>02-12-10</td>\n",
       "      <td>1970-01-01 00:00:00.000000002</td>\n",
       "      <td>1970-01-01 00:00:00.000000012</td>\n",
       "      <td>1970-01-01 00:00:00.000002010</td>\n",
       "      <td>15299.0</td>\n",
       "      <td>United Kingdom</td>\n",
       "    </tr>\n",
       "    <tr>\n",
       "      <th>4945</th>\n",
       "      <td>536830</td>\n",
       "      <td>84077</td>\n",
       "      <td>WORLD WAR 2 GLIDERS ASSTD DESIGNS</td>\n",
       "      <td>2880</td>\n",
       "      <td>0.18</td>\n",
       "      <td>518.4</td>\n",
       "      <td>02-12-10</td>\n",
       "      <td>1970-01-01 00:00:00.000000002</td>\n",
       "      <td>1970-01-01 00:00:00.000000012</td>\n",
       "      <td>1970-01-01 00:00:00.000002010</td>\n",
       "      <td>16754.0</td>\n",
       "      <td>United Kingdom</td>\n",
       "    </tr>\n",
       "    <tr>\n",
       "      <th>...</th>\n",
       "      <td>...</td>\n",
       "      <td>...</td>\n",
       "      <td>...</td>\n",
       "      <td>...</td>\n",
       "      <td>...</td>\n",
       "      <td>...</td>\n",
       "      <td>...</td>\n",
       "      <td>...</td>\n",
       "      <td>...</td>\n",
       "      <td>...</td>\n",
       "      <td>...</td>\n",
       "      <td>...</td>\n",
       "    </tr>\n",
       "    <tr>\n",
       "      <th>540026</th>\n",
       "      <td>581457</td>\n",
       "      <td>23543</td>\n",
       "      <td>WALL ART KEEP CALM</td>\n",
       "      <td>698</td>\n",
       "      <td>4.15</td>\n",
       "      <td>2896.7</td>\n",
       "      <td>08-12-11</td>\n",
       "      <td>1970-01-01 00:00:00.000000008</td>\n",
       "      <td>1970-01-01 00:00:00.000000012</td>\n",
       "      <td>1970-01-01 00:00:00.000002011</td>\n",
       "      <td>18102.0</td>\n",
       "      <td>United Kingdom</td>\n",
       "    </tr>\n",
       "    <tr>\n",
       "      <th>540035</th>\n",
       "      <td>581458</td>\n",
       "      <td>22197</td>\n",
       "      <td>POPCORN HOLDER</td>\n",
       "      <td>1500</td>\n",
       "      <td>0.72</td>\n",
       "      <td>1080.0</td>\n",
       "      <td>08-12-11</td>\n",
       "      <td>1970-01-01 00:00:00.000000008</td>\n",
       "      <td>1970-01-01 00:00:00.000000012</td>\n",
       "      <td>1970-01-01 00:00:00.000002011</td>\n",
       "      <td>17949.0</td>\n",
       "      <td>United Kingdom</td>\n",
       "    </tr>\n",
       "    <tr>\n",
       "      <th>540036</th>\n",
       "      <td>581459</td>\n",
       "      <td>22197</td>\n",
       "      <td>POPCORN HOLDER</td>\n",
       "      <td>1200</td>\n",
       "      <td>0.72</td>\n",
       "      <td>864.0</td>\n",
       "      <td>08-12-11</td>\n",
       "      <td>1970-01-01 00:00:00.000000008</td>\n",
       "      <td>1970-01-01 00:00:00.000000012</td>\n",
       "      <td>1970-01-01 00:00:00.000002011</td>\n",
       "      <td>17949.0</td>\n",
       "      <td>United Kingdom</td>\n",
       "    </tr>\n",
       "    <tr>\n",
       "      <th>540386</th>\n",
       "      <td>581483</td>\n",
       "      <td>23843</td>\n",
       "      <td>PAPER CRAFT , LITTLE BIRDIE</td>\n",
       "      <td>80995</td>\n",
       "      <td>2.08</td>\n",
       "      <td>168469.6</td>\n",
       "      <td>09-12-11</td>\n",
       "      <td>1970-01-01 00:00:00.000000009</td>\n",
       "      <td>1970-01-01 00:00:00.000000012</td>\n",
       "      <td>1970-01-01 00:00:00.000002011</td>\n",
       "      <td>16446.0</td>\n",
       "      <td>United Kingdom</td>\n",
       "    </tr>\n",
       "    <tr>\n",
       "      <th>540387</th>\n",
       "      <td>C581484</td>\n",
       "      <td>23843</td>\n",
       "      <td>PAPER CRAFT , LITTLE BIRDIE</td>\n",
       "      <td>80995</td>\n",
       "      <td>2.08</td>\n",
       "      <td>168469.6</td>\n",
       "      <td>09-12-11</td>\n",
       "      <td>1970-01-01 00:00:00.000000009</td>\n",
       "      <td>1970-01-01 00:00:00.000000012</td>\n",
       "      <td>1970-01-01 00:00:00.000002011</td>\n",
       "      <td>16446.0</td>\n",
       "      <td>United Kingdom</td>\n",
       "    </tr>\n",
       "  </tbody>\n",
       "</table>\n",
       "<p>542 rows × 12 columns</p>\n",
       "</div>"
      ],
      "text/plain": [
       "       InvoiceNo StockCode                          Description  Quantity  \\\n",
       "730       536437     17021               NAMASTE SWAGAT INCENSE       600   \n",
       "3917      536736     22616           PACK OF 12 LONDON TISSUES        600   \n",
       "4287     C536757     84347  ROTATING SILVER ANGELS T-LIGHT HLDR      9360   \n",
       "4850      536809     84950       ASSORTED COLOUR T-LIGHT HOLDER      1824   \n",
       "4945      536830     84077    WORLD WAR 2 GLIDERS ASSTD DESIGNS      2880   \n",
       "...          ...       ...                                  ...       ...   \n",
       "540026    581457     23543                  WALL ART KEEP CALM        698   \n",
       "540035    581458     22197                       POPCORN HOLDER      1500   \n",
       "540036    581459     22197                       POPCORN HOLDER      1200   \n",
       "540386    581483     23843          PAPER CRAFT , LITTLE BIRDIE     80995   \n",
       "540387   C581484     23843          PAPER CRAFT , LITTLE BIRDIE     80995   \n",
       "\n",
       "        UnitPrice    Amount InvoiceDate                           Day  \\\n",
       "730          0.24     144.0    01-12-10 1970-01-01 00:00:00.000000001   \n",
       "3917         0.29     174.0    02-12-10 1970-01-01 00:00:00.000000002   \n",
       "4287         0.03     280.8    02-12-10 1970-01-01 00:00:00.000000002   \n",
       "4850         0.55    1003.2    02-12-10 1970-01-01 00:00:00.000000002   \n",
       "4945         0.18     518.4    02-12-10 1970-01-01 00:00:00.000000002   \n",
       "...           ...       ...         ...                           ...   \n",
       "540026       4.15    2896.7    08-12-11 1970-01-01 00:00:00.000000008   \n",
       "540035       0.72    1080.0    08-12-11 1970-01-01 00:00:00.000000008   \n",
       "540036       0.72     864.0    08-12-11 1970-01-01 00:00:00.000000008   \n",
       "540386       2.08  168469.6    09-12-11 1970-01-01 00:00:00.000000009   \n",
       "540387       2.08  168469.6    09-12-11 1970-01-01 00:00:00.000000009   \n",
       "\n",
       "                               Month                          Year  \\\n",
       "730    1970-01-01 00:00:00.000000012 1970-01-01 00:00:00.000002010   \n",
       "3917   1970-01-01 00:00:00.000000012 1970-01-01 00:00:00.000002010   \n",
       "4287   1970-01-01 00:00:00.000000012 1970-01-01 00:00:00.000002010   \n",
       "4850   1970-01-01 00:00:00.000000012 1970-01-01 00:00:00.000002010   \n",
       "4945   1970-01-01 00:00:00.000000012 1970-01-01 00:00:00.000002010   \n",
       "...                              ...                           ...   \n",
       "540026 1970-01-01 00:00:00.000000012 1970-01-01 00:00:00.000002011   \n",
       "540035 1970-01-01 00:00:00.000000012 1970-01-01 00:00:00.000002011   \n",
       "540036 1970-01-01 00:00:00.000000012 1970-01-01 00:00:00.000002011   \n",
       "540386 1970-01-01 00:00:00.000000012 1970-01-01 00:00:00.000002011   \n",
       "540387 1970-01-01 00:00:00.000000012 1970-01-01 00:00:00.000002011   \n",
       "\n",
       "        CustomerID         Country  \n",
       "730        13694.0  United Kingdom  \n",
       "3917       17381.0  United Kingdom  \n",
       "4287       15838.0  United Kingdom  \n",
       "4850       15299.0  United Kingdom  \n",
       "4945       16754.0  United Kingdom  \n",
       "...            ...             ...  \n",
       "540026     18102.0  United Kingdom  \n",
       "540035     17949.0  United Kingdom  \n",
       "540036     17949.0  United Kingdom  \n",
       "540386     16446.0  United Kingdom  \n",
       "540387     16446.0  United Kingdom  \n",
       "\n",
       "[542 rows x 12 columns]"
      ]
     },
     "execution_count": 79,
     "metadata": {},
     "output_type": "execute_result"
    }
   ],
   "source": [
    "dg[dg.loc[:,'Quantity']>500]"
   ]
  },
  {
   "cell_type": "code",
   "execution_count": 82,
   "id": "4bbe905c",
   "metadata": {},
   "outputs": [
    {
     "data": {
      "text/html": [
       "<div>\n",
       "<style scoped>\n",
       "    .dataframe tbody tr th:only-of-type {\n",
       "        vertical-align: middle;\n",
       "    }\n",
       "\n",
       "    .dataframe tbody tr th {\n",
       "        vertical-align: top;\n",
       "    }\n",
       "\n",
       "    .dataframe thead th {\n",
       "        text-align: right;\n",
       "    }\n",
       "</style>\n",
       "<table border=\"1\" class=\"dataframe\">\n",
       "  <thead>\n",
       "    <tr style=\"text-align: right;\">\n",
       "      <th></th>\n",
       "      <th>Amount</th>\n",
       "    </tr>\n",
       "  </thead>\n",
       "  <tbody>\n",
       "    <tr>\n",
       "      <th>541854</th>\n",
       "      <td>23.40</td>\n",
       "    </tr>\n",
       "    <tr>\n",
       "      <th>541855</th>\n",
       "      <td>23.60</td>\n",
       "    </tr>\n",
       "    <tr>\n",
       "      <th>541856</th>\n",
       "      <td>30.00</td>\n",
       "    </tr>\n",
       "    <tr>\n",
       "      <th>541857</th>\n",
       "      <td>214.80</td>\n",
       "    </tr>\n",
       "    <tr>\n",
       "      <th>541858</th>\n",
       "      <td>70.80</td>\n",
       "    </tr>\n",
       "    <tr>\n",
       "      <th>541859</th>\n",
       "      <td>23.40</td>\n",
       "    </tr>\n",
       "    <tr>\n",
       "      <th>541860</th>\n",
       "      <td>19.80</td>\n",
       "    </tr>\n",
       "    <tr>\n",
       "      <th>541861</th>\n",
       "      <td>19.80</td>\n",
       "    </tr>\n",
       "    <tr>\n",
       "      <th>541862</th>\n",
       "      <td>15.00</td>\n",
       "    </tr>\n",
       "    <tr>\n",
       "      <th>541863</th>\n",
       "      <td>15.00</td>\n",
       "    </tr>\n",
       "    <tr>\n",
       "      <th>541864</th>\n",
       "      <td>15.00</td>\n",
       "    </tr>\n",
       "    <tr>\n",
       "      <th>541865</th>\n",
       "      <td>15.00</td>\n",
       "    </tr>\n",
       "    <tr>\n",
       "      <th>541866</th>\n",
       "      <td>15.60</td>\n",
       "    </tr>\n",
       "    <tr>\n",
       "      <th>541867</th>\n",
       "      <td>23.40</td>\n",
       "    </tr>\n",
       "    <tr>\n",
       "      <th>541868</th>\n",
       "      <td>16.60</td>\n",
       "    </tr>\n",
       "    <tr>\n",
       "      <th>541869</th>\n",
       "      <td>10.20</td>\n",
       "    </tr>\n",
       "    <tr>\n",
       "      <th>541870</th>\n",
       "      <td>12.60</td>\n",
       "    </tr>\n",
       "    <tr>\n",
       "      <th>541871</th>\n",
       "      <td>16.60</td>\n",
       "    </tr>\n",
       "    <tr>\n",
       "      <th>541872</th>\n",
       "      <td>16.60</td>\n",
       "    </tr>\n",
       "    <tr>\n",
       "      <th>541873</th>\n",
       "      <td>14.85</td>\n",
       "    </tr>\n",
       "  </tbody>\n",
       "</table>\n",
       "</div>"
      ],
      "text/plain": [
       "        Amount\n",
       "541854   23.40\n",
       "541855   23.60\n",
       "541856   30.00\n",
       "541857  214.80\n",
       "541858   70.80\n",
       "541859   23.40\n",
       "541860   19.80\n",
       "541861   19.80\n",
       "541862   15.00\n",
       "541863   15.00\n",
       "541864   15.00\n",
       "541865   15.00\n",
       "541866   15.60\n",
       "541867   23.40\n",
       "541868   16.60\n",
       "541869   10.20\n",
       "541870   12.60\n",
       "541871   16.60\n",
       "541872   16.60\n",
       "541873   14.85"
      ]
     },
     "execution_count": 82,
     "metadata": {},
     "output_type": "execute_result"
    }
   ],
   "source": [
    "dg[['Amount']].tail(20)"
   ]
  },
  {
   "cell_type": "code",
   "execution_count": 84,
   "id": "89eea9b5",
   "metadata": {},
   "outputs": [],
   "source": [
    "dg2=sum(dg.loc[:,'Amount'])"
   ]
  },
  {
   "cell_type": "code",
   "execution_count": 85,
   "id": "37aa6539",
   "metadata": {},
   "outputs": [
    {
     "data": {
      "text/plain": [
       "11540603.774004437"
      ]
     },
     "execution_count": 85,
     "metadata": {},
     "output_type": "execute_result"
    }
   ],
   "source": [
    "dg2"
   ]
  },
  {
   "cell_type": "code",
   "execution_count": 87,
   "id": "cf059c07",
   "metadata": {},
   "outputs": [
    {
     "data": {
      "text/html": [
       "<div>\n",
       "<style scoped>\n",
       "    .dataframe tbody tr th:only-of-type {\n",
       "        vertical-align: middle;\n",
       "    }\n",
       "\n",
       "    .dataframe tbody tr th {\n",
       "        vertical-align: top;\n",
       "    }\n",
       "\n",
       "    .dataframe thead th {\n",
       "        text-align: right;\n",
       "    }\n",
       "</style>\n",
       "<table border=\"1\" class=\"dataframe\">\n",
       "  <thead>\n",
       "    <tr style=\"text-align: right;\">\n",
       "      <th></th>\n",
       "      <th>Amount</th>\n",
       "      <th>Quantity</th>\n",
       "    </tr>\n",
       "  </thead>\n",
       "  <tbody>\n",
       "    <tr>\n",
       "      <th>0</th>\n",
       "      <td>15.30</td>\n",
       "      <td>6</td>\n",
       "    </tr>\n",
       "    <tr>\n",
       "      <th>1</th>\n",
       "      <td>20.34</td>\n",
       "      <td>6</td>\n",
       "    </tr>\n",
       "    <tr>\n",
       "      <th>2</th>\n",
       "      <td>22.00</td>\n",
       "      <td>8</td>\n",
       "    </tr>\n",
       "    <tr>\n",
       "      <th>3</th>\n",
       "      <td>20.34</td>\n",
       "      <td>6</td>\n",
       "    </tr>\n",
       "    <tr>\n",
       "      <th>4</th>\n",
       "      <td>20.34</td>\n",
       "      <td>6</td>\n",
       "    </tr>\n",
       "    <tr>\n",
       "      <th>...</th>\n",
       "      <td>...</td>\n",
       "      <td>...</td>\n",
       "    </tr>\n",
       "    <tr>\n",
       "      <th>541869</th>\n",
       "      <td>10.20</td>\n",
       "      <td>12</td>\n",
       "    </tr>\n",
       "    <tr>\n",
       "      <th>541870</th>\n",
       "      <td>12.60</td>\n",
       "      <td>6</td>\n",
       "    </tr>\n",
       "    <tr>\n",
       "      <th>541871</th>\n",
       "      <td>16.60</td>\n",
       "      <td>4</td>\n",
       "    </tr>\n",
       "    <tr>\n",
       "      <th>541872</th>\n",
       "      <td>16.60</td>\n",
       "      <td>4</td>\n",
       "    </tr>\n",
       "    <tr>\n",
       "      <th>541873</th>\n",
       "      <td>14.85</td>\n",
       "      <td>3</td>\n",
       "    </tr>\n",
       "  </tbody>\n",
       "</table>\n",
       "<p>541874 rows × 2 columns</p>\n",
       "</div>"
      ],
      "text/plain": [
       "        Amount  Quantity\n",
       "0        15.30         6\n",
       "1        20.34         6\n",
       "2        22.00         8\n",
       "3        20.34         6\n",
       "4        20.34         6\n",
       "...        ...       ...\n",
       "541869   10.20        12\n",
       "541870   12.60         6\n",
       "541871   16.60         4\n",
       "541872   16.60         4\n",
       "541873   14.85         3\n",
       "\n",
       "[541874 rows x 2 columns]"
      ]
     },
     "execution_count": 87,
     "metadata": {},
     "output_type": "execute_result"
    }
   ],
   "source": [
    "dg2=dg.loc[:,['Amount','Quantity']]\n",
    "dg2"
   ]
  },
  {
   "cell_type": "code",
   "execution_count": 3,
   "id": "ce1ab4ad",
   "metadata": {},
   "outputs": [
    {
     "data": {
      "text/html": [
       "<div>\n",
       "<style scoped>\n",
       "    .dataframe tbody tr th:only-of-type {\n",
       "        vertical-align: middle;\n",
       "    }\n",
       "\n",
       "    .dataframe tbody tr th {\n",
       "        vertical-align: top;\n",
       "    }\n",
       "\n",
       "    .dataframe thead th {\n",
       "        text-align: right;\n",
       "    }\n",
       "</style>\n",
       "<table border=\"1\" class=\"dataframe\">\n",
       "  <thead>\n",
       "    <tr style=\"text-align: right;\">\n",
       "      <th></th>\n",
       "      <th>Movie</th>\n",
       "      <th>LeadStudio</th>\n",
       "      <th>RottenTomatoes</th>\n",
       "      <th>AudienceScore</th>\n",
       "      <th>Story</th>\n",
       "      <th>Genre</th>\n",
       "      <th>TheatersOpenWeek</th>\n",
       "      <th>OpeningWeekend</th>\n",
       "      <th>BOAvgOpenWeekend</th>\n",
       "      <th>DomesticGross</th>\n",
       "      <th>ForeignGross</th>\n",
       "      <th>WorldGross</th>\n",
       "      <th>Budget</th>\n",
       "      <th>Profitability</th>\n",
       "      <th>OpenProfit</th>\n",
       "      <th>Year</th>\n",
       "    </tr>\n",
       "  </thead>\n",
       "  <tbody>\n",
       "    <tr>\n",
       "      <th>0</th>\n",
       "      <td>Spider-Man 3</td>\n",
       "      <td>Sony</td>\n",
       "      <td>61.0</td>\n",
       "      <td>54.0</td>\n",
       "      <td>Metamorphosis</td>\n",
       "      <td>Action</td>\n",
       "      <td>4252.0</td>\n",
       "      <td>151.10</td>\n",
       "      <td>35540.0</td>\n",
       "      <td>336.53</td>\n",
       "      <td>554.34</td>\n",
       "      <td>890.87</td>\n",
       "      <td>258.0</td>\n",
       "      <td>345.30</td>\n",
       "      <td>58.57</td>\n",
       "      <td>2007</td>\n",
       "    </tr>\n",
       "    <tr>\n",
       "      <th>1</th>\n",
       "      <td>Shrek the Third</td>\n",
       "      <td>Paramount</td>\n",
       "      <td>42.0</td>\n",
       "      <td>57.0</td>\n",
       "      <td>Quest</td>\n",
       "      <td>Animation</td>\n",
       "      <td>4122.0</td>\n",
       "      <td>121.60</td>\n",
       "      <td>29507.0</td>\n",
       "      <td>322.72</td>\n",
       "      <td>476.24</td>\n",
       "      <td>798.96</td>\n",
       "      <td>160.0</td>\n",
       "      <td>499.35</td>\n",
       "      <td>76.00</td>\n",
       "      <td>2007</td>\n",
       "    </tr>\n",
       "    <tr>\n",
       "      <th>2</th>\n",
       "      <td>Transformers</td>\n",
       "      <td>Paramount</td>\n",
       "      <td>57.0</td>\n",
       "      <td>89.0</td>\n",
       "      <td>Monster Force</td>\n",
       "      <td>Action</td>\n",
       "      <td>4011.0</td>\n",
       "      <td>70.50</td>\n",
       "      <td>17577.0</td>\n",
       "      <td>319.25</td>\n",
       "      <td>390.46</td>\n",
       "      <td>709.71</td>\n",
       "      <td>150.0</td>\n",
       "      <td>473.14</td>\n",
       "      <td>47.00</td>\n",
       "      <td>2007</td>\n",
       "    </tr>\n",
       "    <tr>\n",
       "      <th>3</th>\n",
       "      <td>Pirates of the Caribbean: At World's End</td>\n",
       "      <td>Disney</td>\n",
       "      <td>45.0</td>\n",
       "      <td>74.0</td>\n",
       "      <td>Rescue</td>\n",
       "      <td>Action</td>\n",
       "      <td>4362.0</td>\n",
       "      <td>114.70</td>\n",
       "      <td>26302.0</td>\n",
       "      <td>309.42</td>\n",
       "      <td>654.00</td>\n",
       "      <td>963.42</td>\n",
       "      <td>300.0</td>\n",
       "      <td>321.14</td>\n",
       "      <td>38.23</td>\n",
       "      <td>2007</td>\n",
       "    </tr>\n",
       "    <tr>\n",
       "      <th>4</th>\n",
       "      <td>Harry Potter and the Order of the Phoenix</td>\n",
       "      <td>Warner Bros</td>\n",
       "      <td>78.0</td>\n",
       "      <td>82.0</td>\n",
       "      <td>Quest</td>\n",
       "      <td>Adventure</td>\n",
       "      <td>4285.0</td>\n",
       "      <td>77.10</td>\n",
       "      <td>17998.0</td>\n",
       "      <td>292.00</td>\n",
       "      <td>647.88</td>\n",
       "      <td>939.89</td>\n",
       "      <td>150.0</td>\n",
       "      <td>626.59</td>\n",
       "      <td>51.40</td>\n",
       "      <td>2007</td>\n",
       "    </tr>\n",
       "    <tr>\n",
       "      <th>...</th>\n",
       "      <td>...</td>\n",
       "      <td>...</td>\n",
       "      <td>...</td>\n",
       "      <td>...</td>\n",
       "      <td>...</td>\n",
       "      <td>...</td>\n",
       "      <td>...</td>\n",
       "      <td>...</td>\n",
       "      <td>...</td>\n",
       "      <td>...</td>\n",
       "      <td>...</td>\n",
       "      <td>...</td>\n",
       "      <td>...</td>\n",
       "      <td>...</td>\n",
       "      <td>...</td>\n",
       "      <td>...</td>\n",
       "    </tr>\n",
       "    <tr>\n",
       "      <th>965</th>\n",
       "      <td>The Canyons</td>\n",
       "      <td>IFC</td>\n",
       "      <td>22.0</td>\n",
       "      <td>NaN</td>\n",
       "      <td>NaN</td>\n",
       "      <td>NaN</td>\n",
       "      <td>1.0</td>\n",
       "      <td>0.01</td>\n",
       "      <td>13351.0</td>\n",
       "      <td>0.06</td>\n",
       "      <td>0.14</td>\n",
       "      <td>0.19</td>\n",
       "      <td>NaN</td>\n",
       "      <td>77.21</td>\n",
       "      <td>NaN</td>\n",
       "      <td>2013</td>\n",
       "    </tr>\n",
       "    <tr>\n",
       "      <th>966</th>\n",
       "      <td>The Call</td>\n",
       "      <td>TriStar</td>\n",
       "      <td>43.0</td>\n",
       "      <td>66.0</td>\n",
       "      <td>NaN</td>\n",
       "      <td>NaN</td>\n",
       "      <td>2507.0</td>\n",
       "      <td>17.12</td>\n",
       "      <td>6828.0</td>\n",
       "      <td>51.87</td>\n",
       "      <td>16.70</td>\n",
       "      <td>68.57</td>\n",
       "      <td>13.0</td>\n",
       "      <td>527.48</td>\n",
       "      <td>131.69</td>\n",
       "      <td>2013</td>\n",
       "    </tr>\n",
       "    <tr>\n",
       "      <th>967</th>\n",
       "      <td>The English Teacher</td>\n",
       "      <td>Cinedigm Entertainment</td>\n",
       "      <td>42.0</td>\n",
       "      <td>NaN</td>\n",
       "      <td>NaN</td>\n",
       "      <td>NaN</td>\n",
       "      <td>2.0</td>\n",
       "      <td>0.01</td>\n",
       "      <td>3001.0</td>\n",
       "      <td>0.10</td>\n",
       "      <td>0.06</td>\n",
       "      <td>0.10</td>\n",
       "      <td>NaN</td>\n",
       "      <td>NaN</td>\n",
       "      <td>NaN</td>\n",
       "      <td>2013</td>\n",
       "    </tr>\n",
       "    <tr>\n",
       "      <th>968</th>\n",
       "      <td>John Dies at the End</td>\n",
       "      <td>Magnolia</td>\n",
       "      <td>61.0</td>\n",
       "      <td>53.0</td>\n",
       "      <td>NaN</td>\n",
       "      <td>NaN</td>\n",
       "      <td>1.0</td>\n",
       "      <td>0.01</td>\n",
       "      <td>12467.0</td>\n",
       "      <td>0.14</td>\n",
       "      <td>NaN</td>\n",
       "      <td>0.14</td>\n",
       "      <td>1.0</td>\n",
       "      <td>14.20</td>\n",
       "      <td>1.00</td>\n",
       "      <td>2013</td>\n",
       "    </tr>\n",
       "    <tr>\n",
       "      <th>969</th>\n",
       "      <td>Lovelace</td>\n",
       "      <td>Radius-TWC</td>\n",
       "      <td>55.0</td>\n",
       "      <td>37.0</td>\n",
       "      <td>NaN</td>\n",
       "      <td>Biography</td>\n",
       "      <td>118.0</td>\n",
       "      <td>0.18</td>\n",
       "      <td>1564.0</td>\n",
       "      <td>0.36</td>\n",
       "      <td>1.17</td>\n",
       "      <td>1.52</td>\n",
       "      <td>10.0</td>\n",
       "      <td>15.25</td>\n",
       "      <td>1.80</td>\n",
       "      <td>2013</td>\n",
       "    </tr>\n",
       "  </tbody>\n",
       "</table>\n",
       "<p>970 rows × 16 columns</p>\n",
       "</div>"
      ],
      "text/plain": [
       "                                         Movie              LeadStudio  \\\n",
       "0                                 Spider-Man 3                    Sony   \n",
       "1                              Shrek the Third               Paramount   \n",
       "2                                 Transformers               Paramount   \n",
       "3     Pirates of the Caribbean: At World's End                  Disney   \n",
       "4    Harry Potter and the Order of the Phoenix             Warner Bros   \n",
       "..                                         ...                     ...   \n",
       "965                                The Canyons                     IFC   \n",
       "966                                   The Call                 TriStar   \n",
       "967                        The English Teacher  Cinedigm Entertainment   \n",
       "968                       John Dies at the End                Magnolia   \n",
       "969                                   Lovelace              Radius-TWC   \n",
       "\n",
       "     RottenTomatoes  AudienceScore          Story      Genre  \\\n",
       "0              61.0           54.0  Metamorphosis     Action   \n",
       "1              42.0           57.0          Quest  Animation   \n",
       "2              57.0           89.0  Monster Force     Action   \n",
       "3              45.0           74.0         Rescue     Action   \n",
       "4              78.0           82.0          Quest  Adventure   \n",
       "..              ...            ...            ...        ...   \n",
       "965            22.0            NaN            NaN        NaN   \n",
       "966            43.0           66.0            NaN        NaN   \n",
       "967            42.0            NaN            NaN        NaN   \n",
       "968            61.0           53.0            NaN        NaN   \n",
       "969            55.0           37.0            NaN  Biography   \n",
       "\n",
       "     TheatersOpenWeek  OpeningWeekend  BOAvgOpenWeekend  DomesticGross  \\\n",
       "0              4252.0          151.10           35540.0         336.53   \n",
       "1              4122.0          121.60           29507.0         322.72   \n",
       "2              4011.0           70.50           17577.0         319.25   \n",
       "3              4362.0          114.70           26302.0         309.42   \n",
       "4              4285.0           77.10           17998.0         292.00   \n",
       "..                ...             ...               ...            ...   \n",
       "965               1.0            0.01           13351.0           0.06   \n",
       "966            2507.0           17.12            6828.0          51.87   \n",
       "967               2.0            0.01            3001.0           0.10   \n",
       "968               1.0            0.01           12467.0           0.14   \n",
       "969             118.0            0.18            1564.0           0.36   \n",
       "\n",
       "     ForeignGross  WorldGross  Budget  Profitability  OpenProfit  Year  \n",
       "0          554.34      890.87   258.0         345.30       58.57  2007  \n",
       "1          476.24      798.96   160.0         499.35       76.00  2007  \n",
       "2          390.46      709.71   150.0         473.14       47.00  2007  \n",
       "3          654.00      963.42   300.0         321.14       38.23  2007  \n",
       "4          647.88      939.89   150.0         626.59       51.40  2007  \n",
       "..            ...         ...     ...            ...         ...   ...  \n",
       "965          0.14        0.19     NaN          77.21         NaN  2013  \n",
       "966         16.70       68.57    13.0         527.48      131.69  2013  \n",
       "967          0.06        0.10     NaN            NaN         NaN  2013  \n",
       "968           NaN        0.14     1.0          14.20        1.00  2013  \n",
       "969          1.17        1.52    10.0          15.25        1.80  2013  \n",
       "\n",
       "[970 rows x 16 columns]"
      ]
     },
     "execution_count": 3,
     "metadata": {},
     "output_type": "execute_result"
    }
   ],
   "source": [
    "df=pd.read_csv('HollywoodMovies.csv')\n",
    "df"
   ]
  },
  {
   "cell_type": "code",
   "execution_count": 4,
   "id": "79bff4fa",
   "metadata": {},
   "outputs": [
    {
     "data": {
      "text/plain": [
       "Movie               False\n",
       "LeadStudio           True\n",
       "RottenTomatoes       True\n",
       "AudienceScore        True\n",
       "Story                True\n",
       "Genre                True\n",
       "TheatersOpenWeek     True\n",
       "OpeningWeekend       True\n",
       "BOAvgOpenWeekend     True\n",
       "DomesticGross       False\n",
       "ForeignGross         True\n",
       "WorldGross           True\n",
       "Budget               True\n",
       "Profitability        True\n",
       "OpenProfit           True\n",
       "Year                False\n",
       "dtype: bool"
      ]
     },
     "execution_count": 4,
     "metadata": {},
     "output_type": "execute_result"
    }
   ],
   "source": [
    "df.isnull().any()"
   ]
  },
  {
   "cell_type": "code",
   "execution_count": 5,
   "id": "53a1fcf1",
   "metadata": {},
   "outputs": [
    {
     "data": {
      "text/html": [
       "<div>\n",
       "<style scoped>\n",
       "    .dataframe tbody tr th:only-of-type {\n",
       "        vertical-align: middle;\n",
       "    }\n",
       "\n",
       "    .dataframe tbody tr th {\n",
       "        vertical-align: top;\n",
       "    }\n",
       "\n",
       "    .dataframe thead th {\n",
       "        text-align: right;\n",
       "    }\n",
       "</style>\n",
       "<table border=\"1\" class=\"dataframe\">\n",
       "  <thead>\n",
       "    <tr style=\"text-align: right;\">\n",
       "      <th></th>\n",
       "      <th>Movie</th>\n",
       "      <th>LeadStudio</th>\n",
       "      <th>RottenTomatoes</th>\n",
       "      <th>AudienceScore</th>\n",
       "      <th>Story</th>\n",
       "      <th>Genre</th>\n",
       "      <th>TheatersOpenWeek</th>\n",
       "      <th>OpeningWeekend</th>\n",
       "      <th>BOAvgOpenWeekend</th>\n",
       "      <th>DomesticGross</th>\n",
       "      <th>ForeignGross</th>\n",
       "      <th>WorldGross</th>\n",
       "      <th>Budget</th>\n",
       "      <th>Profitability</th>\n",
       "      <th>OpenProfit</th>\n",
       "      <th>Year</th>\n",
       "    </tr>\n",
       "  </thead>\n",
       "  <tbody>\n",
       "    <tr>\n",
       "      <th>42</th>\n",
       "      <td>TMNT</td>\n",
       "      <td>NaN</td>\n",
       "      <td>33.0</td>\n",
       "      <td>63.0</td>\n",
       "      <td>Monster Force</td>\n",
       "      <td>Action</td>\n",
       "      <td>3110.0</td>\n",
       "      <td>24.30</td>\n",
       "      <td>7799.0</td>\n",
       "      <td>54.15</td>\n",
       "      <td>41.46</td>\n",
       "      <td>95.610</td>\n",
       "      <td>35.0</td>\n",
       "      <td>273.17</td>\n",
       "      <td>69.43</td>\n",
       "      <td>2007</td>\n",
       "    </tr>\n",
       "    <tr>\n",
       "      <th>49</th>\n",
       "      <td>The Kingdom</td>\n",
       "      <td>NaN</td>\n",
       "      <td>52.0</td>\n",
       "      <td>78.0</td>\n",
       "      <td>Quest</td>\n",
       "      <td>Action</td>\n",
       "      <td>2793.0</td>\n",
       "      <td>17.10</td>\n",
       "      <td>6135.0</td>\n",
       "      <td>47.54</td>\n",
       "      <td>39.12</td>\n",
       "      <td>86.660</td>\n",
       "      <td>80.0</td>\n",
       "      <td>108.32</td>\n",
       "      <td>21.38</td>\n",
       "      <td>2007</td>\n",
       "    </tr>\n",
       "    <tr>\n",
       "      <th>52</th>\n",
       "      <td>No Reservations</td>\n",
       "      <td>NaN</td>\n",
       "      <td>39.0</td>\n",
       "      <td>64.0</td>\n",
       "      <td>Love</td>\n",
       "      <td>Comedy</td>\n",
       "      <td>2425.0</td>\n",
       "      <td>11.70</td>\n",
       "      <td>4826.0</td>\n",
       "      <td>43.11</td>\n",
       "      <td>49.49</td>\n",
       "      <td>92.600</td>\n",
       "      <td>28.0</td>\n",
       "      <td>330.71</td>\n",
       "      <td>41.79</td>\n",
       "      <td>2007</td>\n",
       "    </tr>\n",
       "    <tr>\n",
       "      <th>59</th>\n",
       "      <td>The Brave One</td>\n",
       "      <td>NaN</td>\n",
       "      <td>43.0</td>\n",
       "      <td>65.0</td>\n",
       "      <td>Rivalry</td>\n",
       "      <td>Action</td>\n",
       "      <td>2755.0</td>\n",
       "      <td>13.50</td>\n",
       "      <td>4889.0</td>\n",
       "      <td>36.79</td>\n",
       "      <td>32.99</td>\n",
       "      <td>69.790</td>\n",
       "      <td>70.0</td>\n",
       "      <td>99.69</td>\n",
       "      <td>19.29</td>\n",
       "      <td>2007</td>\n",
       "    </tr>\n",
       "    <tr>\n",
       "      <th>70</th>\n",
       "      <td>The Reaping</td>\n",
       "      <td>NaN</td>\n",
       "      <td>9.0</td>\n",
       "      <td>53.0</td>\n",
       "      <td>Quest</td>\n",
       "      <td>Horror</td>\n",
       "      <td>2603.0</td>\n",
       "      <td>10.00</td>\n",
       "      <td>3851.0</td>\n",
       "      <td>25.13</td>\n",
       "      <td>37.64</td>\n",
       "      <td>62.770</td>\n",
       "      <td>40.0</td>\n",
       "      <td>156.93</td>\n",
       "      <td>25.00</td>\n",
       "      <td>2007</td>\n",
       "    </tr>\n",
       "    <tr>\n",
       "      <th>90</th>\n",
       "      <td>Pathfinder: Legend of the Ghost Warrior</td>\n",
       "      <td>NaN</td>\n",
       "      <td>11.0</td>\n",
       "      <td>41.0</td>\n",
       "      <td>Rescue</td>\n",
       "      <td>Action</td>\n",
       "      <td>1720.0</td>\n",
       "      <td>5.00</td>\n",
       "      <td>2907.0</td>\n",
       "      <td>10.23</td>\n",
       "      <td>20.59</td>\n",
       "      <td>30.820</td>\n",
       "      <td>26.0</td>\n",
       "      <td>118.55</td>\n",
       "      <td>19.23</td>\n",
       "      <td>2007</td>\n",
       "    </tr>\n",
       "    <tr>\n",
       "      <th>237</th>\n",
       "      <td>Expelled: No Intelligence Allowed</td>\n",
       "      <td>NaN</td>\n",
       "      <td>10.0</td>\n",
       "      <td>42.0</td>\n",
       "      <td>comedy</td>\n",
       "      <td>Documentary</td>\n",
       "      <td>1052.0</td>\n",
       "      <td>2.97</td>\n",
       "      <td>2824.0</td>\n",
       "      <td>7.72</td>\n",
       "      <td>NaN</td>\n",
       "      <td>7.720</td>\n",
       "      <td>3.5</td>\n",
       "      <td>220.57</td>\n",
       "      <td>84.86</td>\n",
       "      <td>2008</td>\n",
       "    </tr>\n",
       "    <tr>\n",
       "      <th>508</th>\n",
       "      <td>Yogi Bear</td>\n",
       "      <td>NaN</td>\n",
       "      <td>14.0</td>\n",
       "      <td>36.0</td>\n",
       "      <td>NaN</td>\n",
       "      <td>Comedy</td>\n",
       "      <td>3515.0</td>\n",
       "      <td>16.40</td>\n",
       "      <td>4669.0</td>\n",
       "      <td>100.25</td>\n",
       "      <td>101.34</td>\n",
       "      <td>201.584</td>\n",
       "      <td>80.0</td>\n",
       "      <td>251.98</td>\n",
       "      <td>20.50</td>\n",
       "      <td>2010</td>\n",
       "    </tr>\n",
       "    <tr>\n",
       "      <th>522</th>\n",
       "      <td>Average</td>\n",
       "      <td>NaN</td>\n",
       "      <td>55.0</td>\n",
       "      <td>62.0</td>\n",
       "      <td>NaN</td>\n",
       "      <td>NaN</td>\n",
       "      <td>2733.0</td>\n",
       "      <td>22.00</td>\n",
       "      <td>8502.0</td>\n",
       "      <td>69.00</td>\n",
       "      <td>110.00</td>\n",
       "      <td>175.000</td>\n",
       "      <td>57.0</td>\n",
       "      <td>306.60</td>\n",
       "      <td>38.60</td>\n",
       "      <td>2011</td>\n",
       "    </tr>\n",
       "  </tbody>\n",
       "</table>\n",
       "</div>"
      ],
      "text/plain": [
       "                                       Movie LeadStudio  RottenTomatoes  \\\n",
       "42                                      TMNT        NaN            33.0   \n",
       "49                               The Kingdom        NaN            52.0   \n",
       "52                           No Reservations        NaN            39.0   \n",
       "59                             The Brave One        NaN            43.0   \n",
       "70                               The Reaping        NaN             9.0   \n",
       "90   Pathfinder: Legend of the Ghost Warrior        NaN            11.0   \n",
       "237        Expelled: No Intelligence Allowed        NaN            10.0   \n",
       "508                                Yogi Bear        NaN            14.0   \n",
       "522                                  Average        NaN            55.0   \n",
       "\n",
       "     AudienceScore          Story        Genre  TheatersOpenWeek  \\\n",
       "42            63.0  Monster Force       Action            3110.0   \n",
       "49            78.0          Quest       Action            2793.0   \n",
       "52            64.0           Love       Comedy            2425.0   \n",
       "59            65.0        Rivalry       Action            2755.0   \n",
       "70            53.0          Quest       Horror            2603.0   \n",
       "90            41.0         Rescue       Action            1720.0   \n",
       "237           42.0         comedy  Documentary            1052.0   \n",
       "508           36.0            NaN       Comedy            3515.0   \n",
       "522           62.0            NaN          NaN            2733.0   \n",
       "\n",
       "     OpeningWeekend  BOAvgOpenWeekend  DomesticGross  ForeignGross  \\\n",
       "42            24.30            7799.0          54.15         41.46   \n",
       "49            17.10            6135.0          47.54         39.12   \n",
       "52            11.70            4826.0          43.11         49.49   \n",
       "59            13.50            4889.0          36.79         32.99   \n",
       "70            10.00            3851.0          25.13         37.64   \n",
       "90             5.00            2907.0          10.23         20.59   \n",
       "237            2.97            2824.0           7.72           NaN   \n",
       "508           16.40            4669.0         100.25        101.34   \n",
       "522           22.00            8502.0          69.00        110.00   \n",
       "\n",
       "     WorldGross  Budget  Profitability  OpenProfit  Year  \n",
       "42       95.610    35.0         273.17       69.43  2007  \n",
       "49       86.660    80.0         108.32       21.38  2007  \n",
       "52       92.600    28.0         330.71       41.79  2007  \n",
       "59       69.790    70.0          99.69       19.29  2007  \n",
       "70       62.770    40.0         156.93       25.00  2007  \n",
       "90       30.820    26.0         118.55       19.23  2007  \n",
       "237       7.720     3.5         220.57       84.86  2008  \n",
       "508     201.584    80.0         251.98       20.50  2010  \n",
       "522     175.000    57.0         306.60       38.60  2011  "
      ]
     },
     "execution_count": 5,
     "metadata": {},
     "output_type": "execute_result"
    }
   ],
   "source": [
    "df[df['LeadStudio'].isnull()]"
   ]
  },
  {
   "cell_type": "code",
   "execution_count": 6,
   "id": "9092597d",
   "metadata": {},
   "outputs": [
    {
     "data": {
      "text/html": [
       "<div>\n",
       "<style scoped>\n",
       "    .dataframe tbody tr th:only-of-type {\n",
       "        vertical-align: middle;\n",
       "    }\n",
       "\n",
       "    .dataframe tbody tr th {\n",
       "        vertical-align: top;\n",
       "    }\n",
       "\n",
       "    .dataframe thead th {\n",
       "        text-align: right;\n",
       "    }\n",
       "</style>\n",
       "<table border=\"1\" class=\"dataframe\">\n",
       "  <thead>\n",
       "    <tr style=\"text-align: right;\">\n",
       "      <th></th>\n",
       "      <th>LeadStudio</th>\n",
       "    </tr>\n",
       "  </thead>\n",
       "  <tbody>\n",
       "    <tr>\n",
       "      <th>0</th>\n",
       "      <td>Sony</td>\n",
       "    </tr>\n",
       "    <tr>\n",
       "      <th>1</th>\n",
       "      <td>Paramount</td>\n",
       "    </tr>\n",
       "    <tr>\n",
       "      <th>2</th>\n",
       "      <td>Paramount</td>\n",
       "    </tr>\n",
       "    <tr>\n",
       "      <th>3</th>\n",
       "      <td>Disney</td>\n",
       "    </tr>\n",
       "    <tr>\n",
       "      <th>4</th>\n",
       "      <td>Warner Bros</td>\n",
       "    </tr>\n",
       "    <tr>\n",
       "      <th>...</th>\n",
       "      <td>...</td>\n",
       "    </tr>\n",
       "    <tr>\n",
       "      <th>965</th>\n",
       "      <td>IFC</td>\n",
       "    </tr>\n",
       "    <tr>\n",
       "      <th>966</th>\n",
       "      <td>TriStar</td>\n",
       "    </tr>\n",
       "    <tr>\n",
       "      <th>967</th>\n",
       "      <td>Cinedigm Entertainment</td>\n",
       "    </tr>\n",
       "    <tr>\n",
       "      <th>968</th>\n",
       "      <td>Magnolia</td>\n",
       "    </tr>\n",
       "    <tr>\n",
       "      <th>969</th>\n",
       "      <td>Radius-TWC</td>\n",
       "    </tr>\n",
       "  </tbody>\n",
       "</table>\n",
       "<p>970 rows × 1 columns</p>\n",
       "</div>"
      ],
      "text/plain": [
       "                 LeadStudio\n",
       "0                      Sony\n",
       "1                 Paramount\n",
       "2                 Paramount\n",
       "3                    Disney\n",
       "4               Warner Bros\n",
       "..                      ...\n",
       "965                     IFC\n",
       "966                 TriStar\n",
       "967  Cinedigm Entertainment\n",
       "968                Magnolia\n",
       "969              Radius-TWC\n",
       "\n",
       "[970 rows x 1 columns]"
      ]
     },
     "execution_count": 6,
     "metadata": {},
     "output_type": "execute_result"
    }
   ],
   "source": [
    "df[['LeadStudio']]"
   ]
  },
  {
   "cell_type": "code",
   "execution_count": 7,
   "id": "c88a7bb3",
   "metadata": {},
   "outputs": [
    {
     "data": {
      "text/plain": [
       "0    Independent\n",
       "dtype: object"
      ]
     },
     "execution_count": 7,
     "metadata": {},
     "output_type": "execute_result"
    }
   ],
   "source": [
    "df['LeadStudio'].mode()"
   ]
  },
  {
   "cell_type": "code",
   "execution_count": 8,
   "id": "4cebe459",
   "metadata": {},
   "outputs": [
    {
     "data": {
      "text/plain": [
       "Independent                 133\n",
       "Warner Bros                 114\n",
       "Sony                         98\n",
       "Fox                          91\n",
       "Universal                    85\n",
       "Paramount                    81\n",
       "Lionsgate                    40\n",
       "Weinstein                    39\n",
       "Disney                       39\n",
       "Summit                       33\n",
       "Relativity Media             30\n",
       "Buena Vista                  20\n",
       "Focus                        17\n",
       "Fox Searchlight              13\n",
       "CBS                          12\n",
       "Roadside Attractions          8\n",
       "DreamWorks                    8\n",
       "Open Road                     8\n",
       "FilmDistrict                  7\n",
       "IFC                           6\n",
       "Magnolia                      6\n",
       "TriStar                       6\n",
       "MGM                           5\n",
       "Eros                          4\n",
       "Miramax                       4\n",
       "Samuel Goldwyn                3\n",
       "A24                           3\n",
       "Spyglass Entertainment        3\n",
       "New Line                      3\n",
       "Happy Madison                 3\n",
       "Columbia                      3\n",
       "Screen Gems                   3\n",
       "LD Entertainment              2\n",
       "Legendary Pictures            2\n",
       "Yash Raj                      2\n",
       "ARC Entertainment             2\n",
       "Reliance                      2\n",
       "Liberty Starz                 2\n",
       "UTV                           1\n",
       "Cohen Media                   1\n",
       "Cinedigm Entertainment        1\n",
       "Mediaplex                     1\n",
       "Rocky Mountain                1\n",
       "Radius-TWC                    1\n",
       "Pixar                         1\n",
       "Village Roadshow              1\n",
       "Crest                         1\n",
       "Virgin                        1\n",
       "Overture                      1\n",
       "Highlight Communications      1\n",
       "Aardman Animations            1\n",
       "Millenium Entertainment       1\n",
       "Atlas Distribution            1\n",
       "Morgan Creek                  1\n",
       "Entertainment One             1\n",
       "Vertigo                       1\n",
       "Music Box Films               1\n",
       "Oscillloscope                 1\n",
       "Regency Enterprises           1\n",
       "Name: LeadStudio, dtype: int64"
      ]
     },
     "execution_count": 8,
     "metadata": {},
     "output_type": "execute_result"
    }
   ],
   "source": [
    "df['LeadStudio'].value_counts()"
   ]
  },
  {
   "cell_type": "code",
   "execution_count": 9,
   "id": "8da31efa",
   "metadata": {},
   "outputs": [],
   "source": [
    "df['LeadStudio'].fillna(df['LeadStudio'].mode().loc[0],inplace=True)"
   ]
  },
  {
   "cell_type": "code",
   "execution_count": 10,
   "id": "701ae4ac",
   "metadata": {},
   "outputs": [
    {
     "data": {
      "text/plain": [
       "False"
      ]
     },
     "execution_count": 10,
     "metadata": {},
     "output_type": "execute_result"
    }
   ],
   "source": [
    "df['LeadStudio'].isnull().any()"
   ]
  },
  {
   "cell_type": "code",
   "execution_count": 11,
   "id": "ce0765c8",
   "metadata": {},
   "outputs": [
    {
     "data": {
      "text/plain": [
       "Movie                 0\n",
       "LeadStudio            0\n",
       "RottenTomatoes       57\n",
       "AudienceScore        63\n",
       "Story               329\n",
       "Genre               279\n",
       "TheatersOpenWeek     21\n",
       "OpeningWeekend        1\n",
       "BOAvgOpenWeekend     25\n",
       "DomesticGross         0\n",
       "ForeignGross         94\n",
       "WorldGross           56\n",
       "Budget               73\n",
       "Profitability        74\n",
       "OpenProfit           75\n",
       "Year                  0\n",
       "dtype: int64"
      ]
     },
     "execution_count": 11,
     "metadata": {},
     "output_type": "execute_result"
    }
   ],
   "source": [
    "df.isnull().sum()"
   ]
  },
  {
   "cell_type": "code",
   "execution_count": 12,
   "id": "685097de",
   "metadata": {},
   "outputs": [
    {
     "data": {
      "text/plain": [
       "51.707557502738226"
      ]
     },
     "execution_count": 12,
     "metadata": {},
     "output_type": "execute_result"
    }
   ],
   "source": [
    "df['RottenTomatoes'].mean()"
   ]
  },
  {
   "cell_type": "code",
   "execution_count": 13,
   "id": "dbcb5c37",
   "metadata": {},
   "outputs": [
    {
     "data": {
      "text/plain": [
       "57"
      ]
     },
     "execution_count": 13,
     "metadata": {},
     "output_type": "execute_result"
    }
   ],
   "source": [
    "df['RottenTomatoes'].isnull().sum()"
   ]
  },
  {
   "cell_type": "code",
   "execution_count": 14,
   "id": "a9da48d8",
   "metadata": {},
   "outputs": [],
   "source": [
    "df['RottenTomatoes'].fillna(df['RottenTomatoes'].median(),inplace=True)"
   ]
  },
  {
   "cell_type": "code",
   "execution_count": 18,
   "id": "59493c97",
   "metadata": {},
   "outputs": [],
   "source": [
    "df['Story'].fillna(df['Story'].mode().loc[0],inplace=True)"
   ]
  },
  {
   "cell_type": "code",
   "execution_count": 19,
   "id": "315f8d7a",
   "metadata": {},
   "outputs": [
    {
     "data": {
      "text/plain": [
       "Movie                 0\n",
       "LeadStudio            0\n",
       "RottenTomatoes        0\n",
       "AudienceScore        63\n",
       "Story                 0\n",
       "Genre               279\n",
       "TheatersOpenWeek     21\n",
       "OpeningWeekend        1\n",
       "BOAvgOpenWeekend     25\n",
       "DomesticGross         0\n",
       "ForeignGross         94\n",
       "WorldGross           56\n",
       "Budget               73\n",
       "Profitability        74\n",
       "OpenProfit           75\n",
       "Year                  0\n",
       "dtype: int64"
      ]
     },
     "execution_count": 19,
     "metadata": {},
     "output_type": "execute_result"
    }
   ],
   "source": [
    "df.isnull().sum()"
   ]
  },
  {
   "cell_type": "code",
   "execution_count": 20,
   "id": "c2bf8030",
   "metadata": {},
   "outputs": [],
   "source": [
    "df['Genre'].fillna(df['Genre'].mode().loc[0],inplace=True)"
   ]
  },
  {
   "cell_type": "code",
   "execution_count": 21,
   "id": "41227ce4",
   "metadata": {},
   "outputs": [
    {
     "name": "stdout",
     "output_type": "stream",
     "text": [
      "<class 'pandas.core.frame.DataFrame'>\n",
      "RangeIndex: 970 entries, 0 to 969\n",
      "Data columns (total 16 columns):\n",
      " #   Column            Non-Null Count  Dtype  \n",
      "---  ------            --------------  -----  \n",
      " 0   Movie             970 non-null    object \n",
      " 1   LeadStudio        970 non-null    object \n",
      " 2   RottenTomatoes    970 non-null    float64\n",
      " 3   AudienceScore     907 non-null    float64\n",
      " 4   Story             970 non-null    object \n",
      " 5   Genre             970 non-null    object \n",
      " 6   TheatersOpenWeek  949 non-null    float64\n",
      " 7   OpeningWeekend    969 non-null    float64\n",
      " 8   BOAvgOpenWeekend  945 non-null    float64\n",
      " 9   DomesticGross     970 non-null    float64\n",
      " 10  ForeignGross      876 non-null    float64\n",
      " 11  WorldGross        914 non-null    float64\n",
      " 12  Budget            897 non-null    float64\n",
      " 13  Profitability     896 non-null    float64\n",
      " 14  OpenProfit        895 non-null    float64\n",
      " 15  Year              970 non-null    int64  \n",
      "dtypes: float64(11), int64(1), object(4)\n",
      "memory usage: 121.4+ KB\n"
     ]
    }
   ],
   "source": [
    "df.info()"
   ]
  },
  {
   "cell_type": "code",
   "execution_count": 24,
   "id": "6ccd04e8",
   "metadata": {},
   "outputs": [
    {
     "data": {
      "text/html": [
       "<div>\n",
       "<style scoped>\n",
       "    .dataframe tbody tr th:only-of-type {\n",
       "        vertical-align: middle;\n",
       "    }\n",
       "\n",
       "    .dataframe tbody tr th {\n",
       "        vertical-align: top;\n",
       "    }\n",
       "\n",
       "    .dataframe thead th {\n",
       "        text-align: right;\n",
       "    }\n",
       "</style>\n",
       "<table border=\"1\" class=\"dataframe\">\n",
       "  <thead>\n",
       "    <tr style=\"text-align: right;\">\n",
       "      <th></th>\n",
       "      <th>Movie</th>\n",
       "      <th>LeadStudio</th>\n",
       "      <th>RottenTomatoes</th>\n",
       "      <th>AudienceScore</th>\n",
       "      <th>Story</th>\n",
       "      <th>Genre</th>\n",
       "      <th>TheatersOpenWeek</th>\n",
       "      <th>OpeningWeekend</th>\n",
       "      <th>BOAvgOpenWeekend</th>\n",
       "      <th>DomesticGross</th>\n",
       "      <th>ForeignGross</th>\n",
       "      <th>WorldGross</th>\n",
       "      <th>Budget</th>\n",
       "      <th>Profitability</th>\n",
       "      <th>OpenProfit</th>\n",
       "      <th>Year</th>\n",
       "    </tr>\n",
       "  </thead>\n",
       "  <tbody>\n",
       "    <tr>\n",
       "      <th>895</th>\n",
       "      <td>Safe Haven</td>\n",
       "      <td>Relativity Media</td>\n",
       "      <td>12.0</td>\n",
       "      <td>68.0</td>\n",
       "      <td>Comedy</td>\n",
       "      <td>Comedy</td>\n",
       "      <td>3223.0</td>\n",
       "      <td>21.40</td>\n",
       "      <td>6640.0</td>\n",
       "      <td>71.35</td>\n",
       "      <td>0.0</td>\n",
       "      <td>71.35</td>\n",
       "      <td>28.0</td>\n",
       "      <td>254.82</td>\n",
       "      <td>76.43</td>\n",
       "      <td>2013</td>\n",
       "    </tr>\n",
       "    <tr>\n",
       "      <th>932</th>\n",
       "      <td>Admission</td>\n",
       "      <td>Focus</td>\n",
       "      <td>38.0</td>\n",
       "      <td>34.0</td>\n",
       "      <td>Comedy</td>\n",
       "      <td>Comedy</td>\n",
       "      <td>2161.0</td>\n",
       "      <td>6.15</td>\n",
       "      <td>2848.0</td>\n",
       "      <td>18.01</td>\n",
       "      <td>0.0</td>\n",
       "      <td>18.01</td>\n",
       "      <td>13.0</td>\n",
       "      <td>138.52</td>\n",
       "      <td>47.31</td>\n",
       "      <td>2013</td>\n",
       "    </tr>\n",
       "  </tbody>\n",
       "</table>\n",
       "</div>"
      ],
      "text/plain": [
       "          Movie        LeadStudio  RottenTomatoes  AudienceScore   Story  \\\n",
       "895  Safe Haven  Relativity Media            12.0           68.0  Comedy   \n",
       "932   Admission             Focus            38.0           34.0  Comedy   \n",
       "\n",
       "      Genre  TheatersOpenWeek  OpeningWeekend  BOAvgOpenWeekend  \\\n",
       "895  Comedy            3223.0           21.40            6640.0   \n",
       "932  Comedy            2161.0            6.15            2848.0   \n",
       "\n",
       "     DomesticGross  ForeignGross  WorldGross  Budget  Profitability  \\\n",
       "895          71.35           0.0       71.35    28.0         254.82   \n",
       "932          18.01           0.0       18.01    13.0         138.52   \n",
       "\n",
       "     OpenProfit  Year  \n",
       "895       76.43  2013  \n",
       "932       47.31  2013  "
      ]
     },
     "execution_count": 24,
     "metadata": {},
     "output_type": "execute_result"
    }
   ],
   "source": [
    "df[df['ForeignGross']==0]"
   ]
  },
  {
   "cell_type": "code",
   "execution_count": 46,
   "id": "1953255b",
   "metadata": {},
   "outputs": [],
   "source": [
    "df['ForeignGross'].fillna(df['ForeignGross'].mean(),inplace=True)\n",
    "df['AudienceScore'].fillna(df['AudienceScore'].median(),inplace=True)\n",
    "df['TheatersOpenWeek'].fillna(df['TheatersOpenWeek'].mean(),inplace=True)\n",
    "df['OpeningWeekend'].fillna(df['OpeningWeekend'].median(),inplace=True)\n",
    "df['BOAvgOpenWeekend'].fillna(df['BOAvgOpenWeekend'].mean(),inplace=True)\n",
    "df['WorldGross'].fillna(df['WorldGross'].median(),inplace=True)\n",
    "df['Budget'].fillna(df['Budget'].mean(),inplace=True)\n",
    "df['Profitability'].fillna(df['Profitability'].mean(),inplace=True)\n",
    "df['OpenProfit'].fillna(df['OpenProfit'].mean(),inplace=True)"
   ]
  },
  {
   "cell_type": "code",
   "execution_count": 47,
   "id": "5e787a28",
   "metadata": {},
   "outputs": [
    {
     "data": {
      "text/plain": [
       "0       58.570000\n",
       "1       76.000000\n",
       "2       47.000000\n",
       "3       38.230000\n",
       "4       51.400000\n",
       "          ...    \n",
       "965     62.223575\n",
       "966    131.690000\n",
       "967     62.223575\n",
       "968      1.000000\n",
       "969      1.800000\n",
       "Name: OpenProfit, Length: 970, dtype: float64"
      ]
     },
     "execution_count": 47,
     "metadata": {},
     "output_type": "execute_result"
    }
   ],
   "source": [
    "df['OpenProfit']"
   ]
  },
  {
   "cell_type": "code",
   "execution_count": 48,
   "id": "9f79121c",
   "metadata": {},
   "outputs": [
    {
     "data": {
      "text/plain": [
       "Movie               0\n",
       "LeadStudio          0\n",
       "RottenTomatoes      0\n",
       "AudienceScore       0\n",
       "Story               0\n",
       "Genre               0\n",
       "TheatersOpenWeek    0\n",
       "OpeningWeekend      0\n",
       "BOAvgOpenWeekend    0\n",
       "DomesticGross       0\n",
       "ForeignGross        0\n",
       "WorldGross          0\n",
       "Budget              0\n",
       "Profitability       0\n",
       "OpenProfit          0\n",
       "Year                0\n",
       "dtype: int64"
      ]
     },
     "execution_count": 48,
     "metadata": {},
     "output_type": "execute_result"
    }
   ],
   "source": [
    "df.isnull().sum()"
   ]
  },
  {
   "cell_type": "code",
   "execution_count": 51,
   "id": "9efd9c18",
   "metadata": {},
   "outputs": [],
   "source": [
    "df['ForeignGross'].replace(0,df['ForeignGross'].mean(),inplace=True)"
   ]
  },
  {
   "cell_type": "code",
   "execution_count": 52,
   "id": "8540464f",
   "metadata": {},
   "outputs": [
    {
     "data": {
      "text/html": [
       "<div>\n",
       "<style scoped>\n",
       "    .dataframe tbody tr th:only-of-type {\n",
       "        vertical-align: middle;\n",
       "    }\n",
       "\n",
       "    .dataframe tbody tr th {\n",
       "        vertical-align: top;\n",
       "    }\n",
       "\n",
       "    .dataframe thead th {\n",
       "        text-align: right;\n",
       "    }\n",
       "</style>\n",
       "<table border=\"1\" class=\"dataframe\">\n",
       "  <thead>\n",
       "    <tr style=\"text-align: right;\">\n",
       "      <th></th>\n",
       "      <th>Movie</th>\n",
       "      <th>LeadStudio</th>\n",
       "      <th>RottenTomatoes</th>\n",
       "      <th>AudienceScore</th>\n",
       "      <th>Story</th>\n",
       "      <th>Genre</th>\n",
       "      <th>TheatersOpenWeek</th>\n",
       "      <th>OpeningWeekend</th>\n",
       "      <th>BOAvgOpenWeekend</th>\n",
       "      <th>DomesticGross</th>\n",
       "      <th>ForeignGross</th>\n",
       "      <th>WorldGross</th>\n",
       "      <th>Budget</th>\n",
       "      <th>Profitability</th>\n",
       "      <th>OpenProfit</th>\n",
       "      <th>Year</th>\n",
       "    </tr>\n",
       "  </thead>\n",
       "  <tbody>\n",
       "  </tbody>\n",
       "</table>\n",
       "</div>"
      ],
      "text/plain": [
       "Empty DataFrame\n",
       "Columns: [Movie, LeadStudio, RottenTomatoes, AudienceScore, Story, Genre, TheatersOpenWeek, OpeningWeekend, BOAvgOpenWeekend, DomesticGross, ForeignGross, WorldGross, Budget, Profitability, OpenProfit, Year]\n",
       "Index: []"
      ]
     },
     "execution_count": 52,
     "metadata": {},
     "output_type": "execute_result"
    }
   ],
   "source": [
    "df[df['ForeignGross']==0]"
   ]
  },
  {
   "cell_type": "code",
   "execution_count": 61,
   "id": "aa653294",
   "metadata": {},
   "outputs": [
    {
     "data": {
      "text/plain": [
       "(0.0, 50.0)"
      ]
     },
     "execution_count": 61,
     "metadata": {},
     "output_type": "execute_result"
    },
    {
     "data": {
      "image/png": "[encoded data removed]",
      "text/plain": [
       "<Figure size 750x500 with 1 Axes>"
      ]
     },
     "metadata": {
      "needs_background": "light"
     },
     "output_type": "display_data"
    }
   ],
   "source": [
    "lab=df['Genre']\n",
    "plt.figure(dpi=125)\n",
    "plt.bar(x=df['Profitability'],height=lab,data=df)\n",
    "plt.xlim(0,50)"
   ]
  },
  {
   "cell_type": "code",
   "execution_count": 66,
   "id": "62b3e030",
   "metadata": {},
   "outputs": [
    {
     "name": "stderr",
     "output_type": "stream",
     "text": [
      "C:\\ProgramData\\Anaconda3\\lib\\site-packages\\seaborn\\categorical.py:1296: UserWarning: 51.2% of the points cannot be placed; you may want to decrease the size of the markers or use stripplot.\n",
      "  warnings.warn(msg, UserWarning)\n",
      "C:\\ProgramData\\Anaconda3\\lib\\site-packages\\seaborn\\categorical.py:1296: UserWarning: 9.8% of the points cannot be placed; you may want to decrease the size of the markers or use stripplot.\n",
      "  warnings.warn(msg, UserWarning)\n",
      "C:\\ProgramData\\Anaconda3\\lib\\site-packages\\seaborn\\categorical.py:1296: UserWarning: 10.0% of the points cannot be placed; you may want to decrease the size of the markers or use stripplot.\n",
      "  warnings.warn(msg, UserWarning)\n",
      "C:\\ProgramData\\Anaconda3\\lib\\site-packages\\seaborn\\categorical.py:1296: UserWarning: 11.4% of the points cannot be placed; you may want to decrease the size of the markers or use stripplot.\n",
      "  warnings.warn(msg, UserWarning)\n",
      "C:\\ProgramData\\Anaconda3\\lib\\site-packages\\seaborn\\categorical.py:1296: UserWarning: 80.9% of the points cannot be placed; you may want to decrease the size of the markers or use stripplot.\n",
      "  warnings.warn(msg, UserWarning)\n",
      "C:\\ProgramData\\Anaconda3\\lib\\site-packages\\seaborn\\categorical.py:1296: UserWarning: 70.6% of the points cannot be placed; you may want to decrease the size of the markers or use stripplot.\n",
      "  warnings.warn(msg, UserWarning)\n",
      "C:\\ProgramData\\Anaconda3\\lib\\site-packages\\seaborn\\categorical.py:1296: UserWarning: 14.3% of the points cannot be placed; you may want to decrease the size of the markers or use stripplot.\n",
      "  warnings.warn(msg, UserWarning)\n",
      "C:\\ProgramData\\Anaconda3\\lib\\site-packages\\seaborn\\categorical.py:1296: UserWarning: 57.7% of the points cannot be placed; you may want to decrease the size of the markers or use stripplot.\n",
      "  warnings.warn(msg, UserWarning)\n",
      "C:\\ProgramData\\Anaconda3\\lib\\site-packages\\seaborn\\categorical.py:1296: UserWarning: 20.0% of the points cannot be placed; you may want to decrease the size of the markers or use stripplot.\n",
      "  warnings.warn(msg, UserWarning)\n",
      "C:\\ProgramData\\Anaconda3\\lib\\site-packages\\seaborn\\categorical.py:1296: UserWarning: 13.3% of the points cannot be placed; you may want to decrease the size of the markers or use stripplot.\n",
      "  warnings.warn(msg, UserWarning)\n"
     ]
    },
    {
     "data": {
      "text/plain": [
       "(7.0, 13.5)"
      ]
     },
     "execution_count": 66,
     "metadata": {},
     "output_type": "execute_result"
    },
    {
     "data": {
      "image/png": "[encoded data removed]",
      "text/plain": [
       "<Figure size 1200x800 with 1 Axes>"
      ]
     },
     "metadata": {
      "needs_background": "light"
     },
     "output_type": "display_data"
    }
   ],
   "source": [
    "plt.figure(dpi=200)\n",
    "sns.swarmplot(x=df['Genre'],y=df['Budget'],data=df)\n",
    "plt.xlim(left=7)"
   ]
  },
  {
   "cell_type": "code",
   "execution_count": null,
   "id": "a4861b4f",
   "metadata": {},
   "outputs": [],
   "source": []
  },
  {
   "cell_type": "code",
   "execution_count": null,
   "id": "3747a9a9",
   "metadata": {},
   "outputs": [],
   "source": []
  }
 ],
 "metadata": {
  "kernelspec": {
   "display_name": "Python 3",
   "language": "python",
   "name": "python3"
  },
  "language_info": {
   "codemirror_mode": {
    "name": "ipython",
    "version": 3
   },
   "file_extension": ".py",
   "mimetype": "text/x-python",
   "name": "python",
   "nbconvert_exporter": "python",
   "pygments_lexer": "ipython3",
   "version": "3.8.8"
  }
 },
 "nbformat": 4,
 "nbformat_minor": 5
}
